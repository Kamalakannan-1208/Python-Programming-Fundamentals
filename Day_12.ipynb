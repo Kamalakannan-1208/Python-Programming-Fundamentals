{
  "nbformat": 4,
  "nbformat_minor": 0,
  "metadata": {
    "colab": {
      "provenance": [],
      "authorship_tag": "ABX9TyPbES+G9qr/hXFalQ8hNv0x",
      "include_colab_link": true
    },
    "kernelspec": {
      "name": "python3",
      "display_name": "Python 3"
    },
    "language_info": {
      "name": "python"
    }
  },
  "cells": [
    {
      "cell_type": "markdown",
      "metadata": {
        "id": "view-in-github",
        "colab_type": "text"
      },
      "source": [
        "<a href=\"https://colab.research.google.com/github/Kamalakannan-1208/Python-Programming-Fundamentals/blob/main/Day_12.ipynb\" target=\"_parent\"><img src=\"https://colab.research.google.com/assets/colab-badge.svg\" alt=\"Open In Colab\"/></a>"
      ]
    },
    {
      "cell_type": "code",
      "execution_count": null,
      "metadata": {
        "colab": {
          "base_uri": "https://localhost:8080/"
        },
        "id": "Hloj_KGbBYRh",
        "outputId": "84bd101d-1dc6-4757-b90a-eea39634fde6"
      },
      "outputs": [
        {
          "output_type": "stream",
          "name": "stdout",
          "text": [
            "/content\n"
          ]
        }
      ],
      "source": [
        "import os\n",
        "# get current working directory\n",
        "cwd=os.getcwd()\n",
        "print(cwd)"
      ]
    },
    {
      "cell_type": "code",
      "source": [
        "# creating new directory single\n",
        "os.mkdir('new_dir')\n",
        "# create a directory also if not exist\n",
        "os.makedirs('new_dir_')"
      ],
      "metadata": {
        "id": "tz_yxAxkBrTE"
      },
      "execution_count": null,
      "outputs": []
    },
    {
      "cell_type": "code",
      "source": [
        "# list dir\n",
        "os.listdir()"
      ],
      "metadata": {
        "colab": {
          "base_uri": "https://localhost:8080/"
        },
        "id": "vxw_v5jlDTDP",
        "outputId": "70cd5bfc-4b0b-4d82-946e-7609322a18a4"
      },
      "execution_count": null,
      "outputs": [
        {
          "output_type": "execute_result",
          "data": {
            "text/plain": [
              "['.config', '.ipynb_checkpoints', 'new_dir', 'new_dir_', 'sample_data']"
            ]
          },
          "metadata": {},
          "execution_count": 5
        }
      ]
    },
    {
      "cell_type": "code",
      "source": [
        "# create file\n",
        "os.mkdir('new_file.txt')"
      ],
      "metadata": {
        "id": "r9XZWD-XDWAm"
      },
      "execution_count": null,
      "outputs": []
    },
    {
      "cell_type": "code",
      "source": [
        "# given in bytes\n",
        "os.path.getsize('new_file.txt')"
      ],
      "metadata": {
        "colab": {
          "base_uri": "https://localhost:8080/"
        },
        "id": "BsRqEIukERO0",
        "outputId": "a0762786-82b4-462c-b50b-083497bf8582"
      },
      "execution_count": null,
      "outputs": [
        {
          "output_type": "execute_result",
          "data": {
            "text/plain": [
              "4096"
            ]
          },
          "metadata": {},
          "execution_count": 7
        }
      ]
    },
    {
      "cell_type": "code",
      "source": [
        "# create file\n",
        "with open(\"new_file.txt\",\"w\") as f:\n",
        "    f.write(\"hello world\")"
      ],
      "metadata": {
        "id": "Elq_niboE3JW"
      },
      "execution_count": null,
      "outputs": []
    },
    {
      "cell_type": "code",
      "source": [
        "# remove file\n",
        "os.remove('new_file.txt')"
      ],
      "metadata": {
        "id": "XdlB9pfGFCz8"
      },
      "execution_count": null,
      "outputs": []
    },
    {
      "cell_type": "code",
      "source": [
        "# remove directory\n",
        "os.removedirs('new_file.txt')"
      ],
      "metadata": {
        "id": "aMnZD3ltEhzQ"
      },
      "execution_count": null,
      "outputs": []
    }
  ]
}