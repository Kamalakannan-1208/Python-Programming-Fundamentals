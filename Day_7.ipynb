{
  "nbformat": 4,
  "nbformat_minor": 0,
  "metadata": {
    "colab": {
      "provenance": [],
      "authorship_tag": "ABX9TyOsttUr4kK/Ivfz9+po1p1z",
      "include_colab_link": true
    },
    "kernelspec": {
      "name": "python3",
      "display_name": "Python 3"
    },
    "language_info": {
      "name": "python"
    }
  },
  "cells": [
    {
      "cell_type": "markdown",
      "metadata": {
        "id": "view-in-github",
        "colab_type": "text"
      },
      "source": [
        "<a href=\"https://colab.research.google.com/github/Kamalakannan-1208/Python-Programming-Fundamentals/blob/main/Day_7.ipynb\" target=\"_parent\"><img src=\"https://colab.research.google.com/assets/colab-badge.svg\" alt=\"Open In Colab\"/></a>"
      ]
    },
    {
      "cell_type": "markdown",
      "source": [
        "OOPs- class"
      ],
      "metadata": {
        "id": "BT42GJASCRoU"
      }
    },
    {
      "cell_type": "code",
      "execution_count": null,
      "metadata": {
        "id": "6HSfrjRHeF18",
        "colab": {
          "base_uri": "https://localhost:8080/"
        },
        "outputId": "fe328110-4dfd-4846-a50d-a21f9587b8d0"
      },
      "outputs": [
        {
          "output_type": "stream",
          "name": "stdout",
          "text": [
            "<__main__.Student object at 0x7915d9710610>\n"
          ]
        }
      ],
      "source": [
        "# class and object\n",
        "class Student:\n",
        "    pass\n",
        "\n",
        "kamal=Student()#object creation and assign to reference var\n",
        "print(kamal)\n"
      ]
    },
    {
      "cell_type": "code",
      "source": [
        "#class attributes\n",
        "class Student:\n",
        "\n",
        "  studentsweared=\"Uniform\"\n",
        "kamal=Student()\n",
        "kumar=Student()\n",
        "kamal.studentsweared=\"shirt\"\n",
        "print(kamal.studentsweared)\n",
        "print(Student.studentsweared)\n",
        "print(kumar.studentsweared)\n",
        "# Student.studentsweared = \"valeu\" it actually change on main"
      ],
      "metadata": {
        "colab": {
          "base_uri": "https://localhost:8080/"
        },
        "id": "FX69DnNMi5VP",
        "outputId": "c915aa40-cc69-488d-da46-865ebf3db035"
      },
      "execution_count": null,
      "outputs": [
        {
          "output_type": "stream",
          "name": "stdout",
          "text": [
            "shirt\n",
            "Uniform\n",
            "Uniform\n"
          ]
        }
      ]
    },
    {
      "cell_type": "code",
      "source": [
        "#Instance variable\n",
        "class Student:\n",
        "  def __init__(self,name,age):\n",
        "    self.name=name\n",
        "    self.age=age\n",
        "kamal=Student(\"kamalakannan\",20)\n",
        "kumar=Student(\"Nandhakumar\",18)\n",
        "print(kamal.name)"
      ],
      "metadata": {
        "colab": {
          "base_uri": "https://localhost:8080/"
        },
        "id": "dme7WL0o33kD",
        "outputId": "b4c5c6f3-4d37-4ad7-8605-593a28748d49"
      },
      "execution_count": null,
      "outputs": [
        {
          "output_type": "stream",
          "name": "stdout",
          "text": [
            "kamalakannan\n"
          ]
        }
      ]
    },
    {
      "cell_type": "code",
      "source": [
        "#special methods\n",
        "class Student:\n",
        "  student_wear=\"Uniform\"\n",
        "  def __init__(self,name,age):\n",
        "    self.name=name\n",
        "    self.age=age\n",
        "  def __str__(self):\n",
        "    return f\"{self.name}\"\n",
        "kamal=Student(\"kamalakannan\",20)\n",
        "kumar=Student(\"Nandhakumar\",18)\n",
        "print(kamal)\n",
        "print(kumar)"
      ],
      "metadata": {
        "colab": {
          "base_uri": "https://localhost:8080/"
        },
        "id": "q_2DcwsZjhwn",
        "outputId": "9c348d48-e921-457a-e781-cf9d247bab9a"
      },
      "execution_count": null,
      "outputs": [
        {
          "output_type": "stream",
          "name": "stdout",
          "text": [
            "kamalakannan\n",
            "Nandhakumar\n"
          ]
        }
      ]
    },
    {
      "cell_type": "code",
      "source": [
        "#Methods\n",
        "class Student:\n",
        "  student_wear=\"Uniform\"\n",
        "  def __init__(self,name,age):\n",
        "    self.name=name\n",
        "    self.age=age\n",
        "    self.details()\n",
        "\n",
        "  def __str__(self):\n",
        "    return f\"{self.name}\"\n",
        "\n",
        "  def details(self, department=None, degree=None, specilization=None, dateofjoining=None):\n",
        "    self.department=department\n",
        "    self.degree=degree\n",
        "    self.dateofjoining=dateofjoining\n",
        "    self.specilization=specilization\n",
        "\n",
        "  def subjects_study(self):\n",
        "\n",
        "    if self.department==\"Tamil\":\n",
        "      if self.degree == \"B.S\":\n",
        "        return \"Tamil\",\"Tamil_Paper_1\"\n",
        "      elif self.degree == \"B.A\":\n",
        "        return \"Tamil\"\n",
        "\n",
        "    elif self.department==\"English\":\n",
        "      return \"English\"\n",
        "\n",
        "    else:\n",
        "      return \"Worng department\"\n",
        "\n",
        "kamal=Student(\"kamalakannan\",20)\n",
        "kumar=Student(\"Nandhakumar\",18)\n",
        "kamal.degree=\"B.S\"\n",
        "kamal.department=\"Tamil\"\n",
        "print(kamal.subjects_study())\n",
        "print(kumar.subjects_study())"
      ],
      "metadata": {
        "colab": {
          "base_uri": "https://localhost:8080/"
        },
        "id": "7i2gOB7bjs4o",
        "outputId": "674abb8e-aee3-4330-ee9c-46505c9a4c9e"
      },
      "execution_count": null,
      "outputs": [
        {
          "output_type": "stream",
          "name": "stdout",
          "text": [
            "('Tamil', 'Tamil_Paper_1')\n",
            "Worng department\n"
          ]
        }
      ]
    },
    {
      "cell_type": "code",
      "source": [
        "# getters\n",
        "class Students:\n",
        "  def __init__(self,name, age):\n",
        "    self.name=name\n",
        "    self.age=age\n",
        "  @property\n",
        "  def get_name(self):\n",
        "    return self.name\n",
        "  @property.setter\n",
        "  def get_age(self,age):\n",
        "    self._age=age\n",
        "\n",
        "kamal=Students(\"kamalakannan\",20)\n",
        "print(kamal.get_name)\n",
        "print(kamal.get_age)"
      ],
      "metadata": {
        "id": "Mi6514RxnnK8"
      },
      "execution_count": null,
      "outputs": []
    }
  ]
}