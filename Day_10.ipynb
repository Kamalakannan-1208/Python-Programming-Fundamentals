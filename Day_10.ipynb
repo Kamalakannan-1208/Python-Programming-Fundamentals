{
  "nbformat": 4,
  "nbformat_minor": 0,
  "metadata": {
    "colab": {
      "provenance": [],
      "authorship_tag": "ABX9TyOHQkRIrA7YO0TP6YEhulpt",
      "include_colab_link": true
    },
    "kernelspec": {
      "name": "python3",
      "display_name": "Python 3"
    },
    "language_info": {
      "name": "python"
    }
  },
  "cells": [
    {
      "cell_type": "markdown",
      "metadata": {
        "id": "view-in-github",
        "colab_type": "text"
      },
      "source": [
        "<a href=\"https://colab.research.google.com/github/Kamalakannan-1208/Python-Programming-Fundamentals/blob/main/Day_10.ipynb\" target=\"_parent\"><img src=\"https://colab.research.google.com/assets/colab-badge.svg\" alt=\"Open In Colab\"/></a>"
      ]
    },
    {
      "cell_type": "markdown",
      "source": [
        "Exception handling"
      ],
      "metadata": {
        "id": "rjD5araQ928E"
      }
    },
    {
      "cell_type": "code",
      "execution_count": null,
      "metadata": {
        "id": "0Hrh1zog9utM",
        "colab": {
          "base_uri": "https://localhost:8080/"
        },
        "outputId": "900854e1-c750-4d08-b6e1-22b617410feb"
      },
      "outputs": [
        {
          "output_type": "stream",
          "name": "stdout",
          "text": [
            "Enter the input : cat\n",
            "x is not number\n",
            "resources deallocate\n",
            "Enter the input : 5\n",
            "resources deallocate\n",
            "5\n"
          ]
        }
      ],
      "source": [
        "def get_input():\n",
        "  while True:\n",
        "    try:# try block\n",
        "      x=int(input(\"Enter the input : \"))\n",
        "    except ValueError: # except block  runtime error\n",
        "      print(\"x is not number\")\n",
        "    else: # else block\n",
        "      return x\n",
        "    finally: # finally\n",
        "      print(\"resources deallocate\")\n",
        "print(get_input())\n"
      ]
    },
    {
      "cell_type": "code",
      "source": [
        "# compilation error\n",
        "print(\"Hello)"
      ],
      "metadata": {
        "colab": {
          "base_uri": "https://localhost:8080/",
          "height": 106
        },
        "id": "ZHl0OywX3k0S",
        "outputId": "80c1843a-e10a-4c8d-f7b3-a5df7152a6b3"
      },
      "execution_count": null,
      "outputs": [
        {
          "output_type": "error",
          "ename": "SyntaxError",
          "evalue": "unterminated string literal (detected at line 2) (<ipython-input-4-230101597>, line 2)",
          "traceback": [
            "\u001b[0;36m  File \u001b[0;32m\"<ipython-input-4-230101597>\"\u001b[0;36m, line \u001b[0;32m2\u001b[0m\n\u001b[0;31m    print(\"Hello)\u001b[0m\n\u001b[0m          ^\u001b[0m\n\u001b[0;31mSyntaxError\u001b[0m\u001b[0;31m:\u001b[0m unterminated string literal (detected at line 2)\n"
          ]
        }
      ]
    },
    {
      "cell_type": "code",
      "source": [
        "try:\n",
        "  print(1/0)\n",
        "except ValueError:\n",
        "  print(\"value error\")\n",
        "finally:\n",
        "  print(\"file closed\")"
      ],
      "metadata": {
        "colab": {
          "base_uri": "https://localhost:8080/",
          "height": 228
        },
        "id": "GlCMGtN7erBl",
        "outputId": "a2b6f3d7-fb13-47bc-dd03-d5185936f42f"
      },
      "execution_count": null,
      "outputs": [
        {
          "output_type": "stream",
          "name": "stdout",
          "text": [
            "file closed\n"
          ]
        },
        {
          "output_type": "error",
          "ename": "ZeroDivisionError",
          "evalue": "division by zero",
          "traceback": [
            "\u001b[0;31m---------------------------------------------------------------------------\u001b[0m",
            "\u001b[0;31mZeroDivisionError\u001b[0m                         Traceback (most recent call last)",
            "\u001b[0;32m<ipython-input-8-182677055>\u001b[0m in \u001b[0;36m<cell line: 0>\u001b[0;34m()\u001b[0m\n\u001b[1;32m      1\u001b[0m \u001b[0;32mtry\u001b[0m\u001b[0;34m:\u001b[0m\u001b[0;34m\u001b[0m\u001b[0;34m\u001b[0m\u001b[0m\n\u001b[0;32m----> 2\u001b[0;31m   \u001b[0mprint\u001b[0m\u001b[0;34m(\u001b[0m\u001b[0;36m1\u001b[0m\u001b[0;34m/\u001b[0m\u001b[0;36m0\u001b[0m\u001b[0;34m)\u001b[0m\u001b[0;34m\u001b[0m\u001b[0;34m\u001b[0m\u001b[0m\n\u001b[0m\u001b[1;32m      3\u001b[0m \u001b[0;32mexcept\u001b[0m \u001b[0mValueError\u001b[0m\u001b[0;34m:\u001b[0m\u001b[0;34m\u001b[0m\u001b[0;34m\u001b[0m\u001b[0m\n\u001b[1;32m      4\u001b[0m   \u001b[0mprint\u001b[0m\u001b[0;34m(\u001b[0m\u001b[0;34m\"value error\"\u001b[0m\u001b[0;34m)\u001b[0m\u001b[0;34m\u001b[0m\u001b[0;34m\u001b[0m\u001b[0m\n\u001b[1;32m      5\u001b[0m \u001b[0;32mfinally\u001b[0m\u001b[0;34m:\u001b[0m\u001b[0;34m\u001b[0m\u001b[0;34m\u001b[0m\u001b[0m\n",
            "\u001b[0;31mZeroDivisionError\u001b[0m: division by zero"
          ]
        }
      ]
    },
    {
      "cell_type": "code",
      "source": [
        "# zero division error\n",
        "try:\n",
        "  print(1/0)\n",
        "except ZeroDivisionError as e:\n",
        "  print(\"zero division error\",e)\n",
        "finally:\n",
        "  print(\"file closed\")"
      ],
      "metadata": {
        "colab": {
          "base_uri": "https://localhost:8080/"
        },
        "id": "Hw5wEXZVbcpo",
        "outputId": "8c709e2c-12f9-48fd-a9a2-c9df46d7a6fe"
      },
      "execution_count": null,
      "outputs": [
        {
          "output_type": "stream",
          "name": "stdout",
          "text": [
            "zero division error division by zero\n",
            "file closed\n"
          ]
        }
      ]
    },
    {
      "cell_type": "code",
      "source": [
        "# Exception for all error\n",
        "# bad practice\n",
        "try:\n",
        "  print(1/0)\n",
        "except:\n",
        "  print(\"not know\")\n",
        "finally:\n",
        "  print(\"file closed\")"
      ],
      "metadata": {
        "colab": {
          "base_uri": "https://localhost:8080/"
        },
        "id": "ZuomV79G29Zu",
        "outputId": "25908dd9-6d89-472d-b66c-e3850839e704"
      },
      "execution_count": null,
      "outputs": [
        {
          "output_type": "stream",
          "name": "stdout",
          "text": [
            "not know\n",
            "file closed\n"
          ]
        }
      ]
    },
    {
      "cell_type": "code",
      "source": [
        "raise TypeError(\"Type error\")"
      ],
      "metadata": {
        "colab": {
          "base_uri": "https://localhost:8080/",
          "height": 141
        },
        "id": "t6WuDXNe3LNc",
        "outputId": "ad107c41-2435-4378-9d90-4b81497066bc"
      },
      "execution_count": null,
      "outputs": [
        {
          "output_type": "error",
          "ename": "TypeError",
          "evalue": "zero division error",
          "traceback": [
            "\u001b[0;31m---------------------------------------------------------------------------\u001b[0m",
            "\u001b[0;31mTypeError\u001b[0m                                 Traceback (most recent call last)",
            "\u001b[0;32m<ipython-input-16-4273777201>\u001b[0m in \u001b[0;36m<cell line: 0>\u001b[0;34m()\u001b[0m\n\u001b[0;32m----> 1\u001b[0;31m \u001b[0;32mraise\u001b[0m \u001b[0mTypeError\u001b[0m\u001b[0;34m(\u001b[0m\u001b[0;34m\"zero division error\"\u001b[0m\u001b[0;34m)\u001b[0m\u001b[0;34m\u001b[0m\u001b[0;34m\u001b[0m\u001b[0m\n\u001b[0m",
            "\u001b[0;31mTypeError\u001b[0m: zero division error"
          ]
        }
      ]
    },
    {
      "cell_type": "code",
      "source": [
        "# user defined exception\n",
        "class user_defined(Exception):\n",
        "  def __init__(self,age,message=\"age must be above 0\"):\n",
        "    self.age=age\n",
        "    self.message=message\n",
        "    super().__init__(self.message)\n",
        "age=int(input(\"Enter the age : \"))\n",
        "# raise exception\n",
        "if age<0:\n",
        "  raise user_defined(age)"
      ],
      "metadata": {
        "colab": {
          "base_uri": "https://localhost:8080/",
          "height": 193
        },
        "id": "Y0ZslS3MCKmz",
        "outputId": "6e687f30-fe90-4e70-ca3a-dae45d416615"
      },
      "execution_count": null,
      "outputs": [
        {
          "name": "stdout",
          "output_type": "stream",
          "text": [
            "Enter the age : -1\n"
          ]
        },
        {
          "output_type": "error",
          "ename": "user_defined",
          "evalue": "age must be above 0",
          "traceback": [
            "\u001b[0;31m---------------------------------------------------------------------------\u001b[0m",
            "\u001b[0;31muser_defined\u001b[0m                              Traceback (most recent call last)",
            "\u001b[0;32m<ipython-input-22-1480942000>\u001b[0m in \u001b[0;36m<cell line: 0>\u001b[0;34m()\u001b[0m\n\u001b[1;32m      8\u001b[0m \u001b[0;31m# raise exception\u001b[0m\u001b[0;34m\u001b[0m\u001b[0;34m\u001b[0m\u001b[0m\n\u001b[1;32m      9\u001b[0m \u001b[0;32mif\u001b[0m \u001b[0mage\u001b[0m\u001b[0;34m<\u001b[0m\u001b[0;36m0\u001b[0m\u001b[0;34m:\u001b[0m\u001b[0;34m\u001b[0m\u001b[0;34m\u001b[0m\u001b[0m\n\u001b[0;32m---> 10\u001b[0;31m   \u001b[0;32mraise\u001b[0m \u001b[0muser_defined\u001b[0m\u001b[0;34m(\u001b[0m\u001b[0mage\u001b[0m\u001b[0;34m)\u001b[0m\u001b[0;34m\u001b[0m\u001b[0;34m\u001b[0m\u001b[0m\n\u001b[0m",
            "\u001b[0;31muser_defined\u001b[0m: age must be above 0"
          ]
        }
      ]
    },
    {
      "cell_type": "code",
      "source": [
        "# handling user defined exception\n",
        "try:\n",
        "  age=int(input(\"Enter the age : \"))\n",
        "  if age<0:\n",
        "    raise user_defined(age)\n",
        "except user_defined as e:\n",
        "  print(\"msg altered\",e)\n",
        "else:\n",
        "  print(\"no exception\")"
      ],
      "metadata": {
        "colab": {
          "base_uri": "https://localhost:8080/"
        },
        "id": "D54TdLIHDJjF",
        "outputId": "aa2640ac-a8f8-4fa5-84bb-0f345890bd6e"
      },
      "execution_count": null,
      "outputs": [
        {
          "output_type": "stream",
          "name": "stdout",
          "text": [
            "Enter the age : -2\n",
            "msg altered age must be above 0\n"
          ]
        }
      ]
    },
    {
      "cell_type": "code",
      "source": [
        "help()"
      ],
      "metadata": {
        "colab": {
          "base_uri": "https://localhost:8080/"
        },
        "id": "0SJP-JPtBKbl",
        "outputId": "29f50cce-152c-436c-e255-a2dcf8dc3de0"
      },
      "execution_count": null,
      "outputs": [
        {
          "output_type": "stream",
          "name": "stdout",
          "text": [
            "Welcome to Python 3.11's help utility! If this is your first time using\n",
            "Python, you should definitely check out the tutorial at\n",
            "https://docs.python.org/3.11/tutorial/.\n",
            "\n",
            "Enter the name of any module, keyword, or topic to get help on writing\n",
            "Python programs and using Python modules.  To get a list of available\n",
            "modules, keywords, symbols, or topics, enter \"modules\", \"keywords\",\n",
            "\"symbols\", or \"topics\".\n",
            "\n",
            "Each module also comes with a one-line summary of what it does; to list\n",
            "the modules whose name or summary contain a given string such as \"spam\",\n",
            "enter \"modules spam\".\n",
            "\n",
            "To quit this help utility and return to the interpreter,\n",
            "enter \"q\" or \"quit\".\n",
            "\n",
            "help> topics\n",
            "\n",
            "Here is a list of available topics.  Enter any topic name to get more help.\n",
            "\n",
            "ASSERTION           DELETION            LOOPING             SHIFTING\n",
            "ASSIGNMENT          DICTIONARIES        MAPPINGMETHODS      SLICINGS\n",
            "ATTRIBUTEMETHODS    DICTIONARYLITERALS  MAPPINGS            SPECIALATTRIBUTES\n",
            "ATTRIBUTES          DYNAMICFEATURES     METHODS             SPECIALIDENTIFIERS\n",
            "AUGMENTEDASSIGNMENT ELLIPSIS            MODULES             SPECIALMETHODS\n",
            "BASICMETHODS        EXCEPTIONS          NAMESPACES          STRINGMETHODS\n",
            "BINARY              EXECUTION           NONE                STRINGS\n",
            "BITWISE             EXPRESSIONS         NUMBERMETHODS       SUBSCRIPTS\n",
            "BOOLEAN             FLOAT               NUMBERS             TRACEBACKS\n",
            "CALLABLEMETHODS     FORMATTING          OBJECTS             TRUTHVALUE\n",
            "CALLS               FRAMEOBJECTS        OPERATORS           TUPLELITERALS\n",
            "CLASSES             FRAMES              PACKAGES            TUPLES\n",
            "CODEOBJECTS         FUNCTIONS           POWER               TYPEOBJECTS\n",
            "COMPARISON          IDENTIFIERS         PRECEDENCE          TYPES\n",
            "COMPLEX             IMPORTING           PRIVATENAMES        UNARY\n",
            "CONDITIONAL         INTEGER             RETURNING           UNICODE\n",
            "CONTEXTMANAGERS     LISTLITERALS        SCOPING             \n",
            "CONVERSIONS         LISTS               SEQUENCEMETHODS     \n",
            "DEBUGGING           LITERALS            SEQUENCES           \n",
            "\n",
            "help> lists\n",
            "No Python documentation found for 'lists'.\n",
            "Use help() to get the interactive help utility.\n",
            "Use help(str) for help on the str class.\n",
            "\n",
            "help> LISTS\n",
            "Mutable Sequence Types\n",
            "**********************\n",
            "\n",
            "The operations in the following table are defined on mutable sequence\n",
            "types. The \"collections.abc.MutableSequence\" ABC is provided to make\n",
            "it easier to correctly implement these operations on custom sequence\n",
            "types.\n",
            "\n",
            "In the table *s* is an instance of a mutable sequence type, *t* is any\n",
            "iterable object and *x* is an arbitrary object that meets any type and\n",
            "value restrictions imposed by *s* (for example, \"bytearray\" only\n",
            "accepts integers that meet the value restriction \"0 <= x <= 255\").\n",
            "\n",
            "+--------------------------------+----------------------------------+-----------------------+\n",
            "| Operation                      | Result                           | Notes                 |\n",
            "|================================|==================================|=======================|\n",
            "| \"s[i] = x\"                     | item *i* of *s* is replaced by   |                       |\n",
            "|                                | *x*                              |                       |\n",
            "+--------------------------------+----------------------------------+-----------------------+\n",
            "| \"s[i:j] = t\"                   | slice of *s* from *i* to *j* is  |                       |\n",
            "|                                | replaced by the contents of the  |                       |\n",
            "|                                | iterable *t*                     |                       |\n",
            "+--------------------------------+----------------------------------+-----------------------+\n",
            "| \"del s[i:j]\"                   | same as \"s[i:j] = []\"            |                       |\n",
            "+--------------------------------+----------------------------------+-----------------------+\n",
            "| \"s[i:j:k] = t\"                 | the elements of \"s[i:j:k]\" are   | (1)                   |\n",
            "|                                | replaced by those of *t*         |                       |\n",
            "+--------------------------------+----------------------------------+-----------------------+\n",
            "| \"del s[i:j:k]\"                 | removes the elements of          |                       |\n",
            "|                                | \"s[i:j:k]\" from the list         |                       |\n",
            "+--------------------------------+----------------------------------+-----------------------+\n",
            "| \"s.append(x)\"                  | appends *x* to the end of the    |                       |\n",
            "|                                | sequence (same as                |                       |\n",
            "|                                | \"s[len(s):len(s)] = [x]\")        |                       |\n",
            "+--------------------------------+----------------------------------+-----------------------+\n",
            "| \"s.clear()\"                    | removes all items from *s* (same | (5)                   |\n",
            "|                                | as \"del s[:]\")                   |                       |\n",
            "+--------------------------------+----------------------------------+-----------------------+\n",
            "| \"s.copy()\"                     | creates a shallow copy of *s*    | (5)                   |\n",
            "|                                | (same as \"s[:]\")                 |                       |\n",
            "+--------------------------------+----------------------------------+-----------------------+\n",
            "| \"s.extend(t)\" or \"s += t\"      | extends *s* with the contents of |                       |\n",
            "|                                | *t* (for the most part the same  |                       |\n",
            "|                                | as \"s[len(s):len(s)] = t\")       |                       |\n",
            "+--------------------------------+----------------------------------+-----------------------+\n",
            "| \"s *= n\"                       | updates *s* with its contents    | (6)                   |\n",
            "|                                | repeated *n* times               |                       |\n",
            "+--------------------------------+----------------------------------+-----------------------+\n",
            "| \"s.insert(i, x)\"               | inserts *x* into *s* at the      |                       |\n",
            "|                                | index given by *i* (same as      |                       |\n",
            "|                                | \"s[i:i] = [x]\")                  |                       |\n",
            "+--------------------------------+----------------------------------+-----------------------+\n",
            "| \"s.pop()\" or \"s.pop(i)\"        | retrieves the item at *i* and    | (2)                   |\n",
            "|                                | also removes it from *s*         |                       |\n",
            "+--------------------------------+----------------------------------+-----------------------+\n",
            "| \"s.remove(x)\"                  | remove the first item from *s*   | (3)                   |\n",
            "|                                | where \"s[i]\" is equal to *x*     |                       |\n",
            "+--------------------------------+----------------------------------+-----------------------+\n",
            "| \"s.reverse()\"                  | reverses the items of *s* in     | (4)                   |\n",
            "|                                | place                            |                       |\n",
            "+--------------------------------+----------------------------------+-----------------------+\n",
            "\n",
            "Notes:\n",
            "\n",
            "1. *t* must have the same length as the slice it is replacing.\n",
            "\n",
            "2. The optional argument *i* defaults to \"-1\", so that by default the\n",
            "   last item is removed and returned.\n",
            "\n",
            "3. \"remove()\" raises \"ValueError\" when *x* is not found in *s*.\n",
            "\n",
            "4. The \"reverse()\" method modifies the sequence in place for economy\n",
            "   of space when reversing a large sequence.  To remind users that it\n",
            "   operates by side effect, it does not return the reversed sequence.\n",
            "\n",
            "5. \"clear()\" and \"copy()\" are included for consistency with the\n",
            "   interfaces of mutable containers that don’t support slicing\n",
            "   operations (such as \"dict\" and \"set\"). \"copy()\" is not part of the\n",
            "   \"collections.abc.MutableSequence\" ABC, but most concrete mutable\n",
            "   sequence classes provide it.\n",
            "\n",
            "   New in version 3.3: \"clear()\" and \"copy()\" methods.\n",
            "\n",
            "6. The value *n* is an integer, or an object implementing\n",
            "   \"__index__()\".  Zero and negative values of *n* clear the sequence.\n",
            "   Items in the sequence are not copied; they are referenced multiple\n",
            "   times, as explained for \"s * n\" under Common Sequence Operations.\n",
            "\n",
            "Related help topics: LISTLITERALS\n",
            "\n",
            "\n",
            "You are now leaving help and returning to the Python interpreter.\n",
            "If you want to ask for help on a particular object directly from the\n",
            "interpreter, you can type \"help(object)\".  Executing \"help('string')\"\n",
            "has the same effect as typing a particular string at the help> prompt.\n"
          ]
        }
      ]
    }
  ]
}