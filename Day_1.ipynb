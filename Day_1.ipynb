{
  "nbformat": 4,
  "nbformat_minor": 0,
  "metadata": {
    "colab": {
      "provenance": [],
      "authorship_tag": "ABX9TyMMSQpFyUpvN5p6VhtX6tJ4",
      "include_colab_link": true
    },
    "kernelspec": {
      "name": "python3",
      "display_name": "Python 3"
    },
    "language_info": {
      "name": "python"
    }
  },
  "cells": [
    {
      "cell_type": "markdown",
      "metadata": {
        "id": "view-in-github",
        "colab_type": "text"
      },
      "source": [
        "<a href=\"https://colab.research.google.com/github/Kamalakannan-1208/Python-Programming-Fundamentals/blob/main/Day_1.ipynb\" target=\"_parent\"><img src=\"https://colab.research.google.com/assets/colab-badge.svg\" alt=\"Open In Colab\"/></a>"
      ]
    },
    {
      "cell_type": "markdown",
      "source": [
        "comments are ignorned by the interpreter/compiler while executing"
      ],
      "metadata": {
        "id": "ZfTKWB-_lqrQ"
      }
    },
    {
      "cell_type": "code",
      "execution_count": 8,
      "metadata": {
        "colab": {
          "base_uri": "https://localhost:8080/",
          "height": 36
        },
        "id": "GmdzDaS-k7VB",
        "outputId": "60dd5210-0494-4290-bf37-42644cbe3163"
      },
      "outputs": [
        {
          "output_type": "execute_result",
          "data": {
            "text/plain": [
              "'comment'"
            ],
            "application/vnd.google.colaboratory.intrinsic+json": {
              "type": "string"
            }
          },
          "metadata": {},
          "execution_count": 8
        }
      ],
      "source": [
        "# comment\n",
        "\"\"\"multlline comment\"\"\"\n",
        "'c'\n",
        "\"comment\""
      ]
    },
    {
      "cell_type": "markdown",
      "source": [
        "Type casting"
      ],
      "metadata": {
        "id": "bMnzAMwelevV"
      }
    },
    {
      "cell_type": "code",
      "source": [
        "integer=int()\n",
        "floating=float()\n",
        "string=str()\n",
        "comple=complex()\n",
        "print(type(integer),type(floating),type(string),type(comple))\n",
        "#the value by default\n",
        "print(integer, floating, string, comple)"
      ],
      "metadata": {
        "colab": {
          "base_uri": "https://localhost:8080/"
        },
        "id": "MnKhSiGhlFsJ",
        "outputId": "28bdfeb2-3777-425d-ebb2-ab470cb8c1c1"
      },
      "execution_count": 10,
      "outputs": [
        {
          "output_type": "stream",
          "name": "stdout",
          "text": [
            "<class 'int'> <class 'float'> <class 'str'> <class 'complex'>\n",
            "0 0.0  0j\n"
          ]
        }
      ]
    },
    {
      "cell_type": "code",
      "source": [
        "#integer\n",
        "print(int(1.0))\n",
        "print(int(\"10 \\n\"))\n",
        "print(int(True))\n",
        "print(int(\"0b111\",2))\n",
        "print(int(\"0o123\",8))\n",
        "print(int(\"0x123\",16))\n"
      ],
      "metadata": {
        "colab": {
          "base_uri": "https://localhost:8080/"
        },
        "id": "Bs7-EHPRmWQU",
        "outputId": "1527eef1-9e86-4f02-908c-385d23283c7b"
      },
      "execution_count": 18,
      "outputs": [
        {
          "output_type": "stream",
          "name": "stdout",
          "text": [
            "1\n",
            "10\n",
            "1\n",
            "7\n",
            "83\n",
            "291\n"
          ]
        }
      ]
    },
    {
      "cell_type": "code",
      "source": [
        "#flaot same\n",
        "print(float(\"inf\"))\n",
        "print(float(\"nan\"))\n",
        "print(type(float(\"nan\")))\n",
        "#str()\n"
      ],
      "metadata": {
        "colab": {
          "base_uri": "https://localhost:8080/"
        },
        "id": "NI-4UvfRnnt9",
        "outputId": "71529045-6133-487d-bdc2-fe2725fd5197"
      },
      "execution_count": 21,
      "outputs": [
        {
          "output_type": "stream",
          "name": "stdout",
          "text": [
            "inf\n",
            "nan\n",
            "<class 'float'>\n"
          ]
        }
      ]
    },
    {
      "cell_type": "code",
      "source": [
        "\n",
        "import keyword\n",
        "print(keyword.kwlist)"
      ],
      "metadata": {
        "colab": {
          "base_uri": "https://localhost:8080/"
        },
        "id": "G_dvLoNvn-YH",
        "outputId": "ca43d669-c178-4eae-e78f-88df65106fbe"
      },
      "execution_count": 27,
      "outputs": [
        {
          "output_type": "stream",
          "name": "stdout",
          "text": [
            "['False', 'None', 'True', 'and', 'as', 'assert', 'async', 'await', 'break', 'class', 'continue', 'def', 'del', 'elif', 'else', 'except', 'finally', 'for', 'from', 'global', 'if', 'import', 'in', 'is', 'lambda', 'nonlocal', 'not', 'or', 'pass', 'raise', 'return', 'try', 'while', 'with', 'yield']\n"
          ]
        }
      ]
    },
    {
      "cell_type": "markdown",
      "source": [
        "Indentation- in python indentation is to represent the block of code(tab == 4 spaces).in other languages {} curly braces represent"
      ],
      "metadata": {
        "id": "iH5r4hIEpzux"
      }
    },
    {
      "cell_type": "markdown",
      "source": [
        "print function"
      ],
      "metadata": {
        "id": "KOj_IpSprB_b"
      }
    },
    {
      "cell_type": "code",
      "source": [
        "import sys\n",
        "print(\"kamal\",sep=\" \", end=\" \",file=sys.stdout, flush=False)\n"
      ],
      "metadata": {
        "colab": {
          "base_uri": "https://localhost:8080/"
        },
        "id": "jKBtD3nWph5n",
        "outputId": "654c276c-42ac-42b9-8c0f-89496e371b1c"
      },
      "execution_count": 32,
      "outputs": [
        {
          "output_type": "stream",
          "name": "stdout",
          "text": [
            "kamal "
          ]
        }
      ]
    },
    {
      "cell_type": "markdown",
      "source": [
        "string formattig"
      ],
      "metadata": {
        "id": "NMMNXg0ZtSNj"
      }
    },
    {
      "cell_type": "code",
      "source": [
        "#sequence of type is important\n",
        "print(\"%d %s\"%(2,\"kamal\"))\n",
        "#index\n",
        "print(\"{1} {0}\".format(2,\"kamal\"))\n",
        "print(\"{}{}\".format(\"kamal\",\"kannan\"))\n",
        "var=10\n",
        "print(f\"{var}\")"
      ],
      "metadata": {
        "colab": {
          "base_uri": "https://localhost:8080/"
        },
        "id": "GSbA84W2q7v-",
        "outputId": "eb2781b8-b587-4027-c26c-1ff09c763110"
      },
      "execution_count": 38,
      "outputs": [
        {
          "output_type": "stream",
          "name": "stdout",
          "text": [
            "2 kamal\n",
            "kamal 2\n",
            "kamalkannan\n",
            "10\n"
          ]
        }
      ]
    },
    {
      "cell_type": "markdown",
      "source": [
        "user input"
      ],
      "metadata": {
        "id": "oFpD6AOYuIgB"
      }
    },
    {
      "cell_type": "code",
      "source": [
        "#default str type\n",
        "a=input()\n",
        "print(type(a))"
      ],
      "metadata": {
        "colab": {
          "base_uri": "https://localhost:8080/"
        },
        "id": "Pgl0n2JguKFx",
        "outputId": "6aeec1ec-02e9-4d25-dd88-9594d9864601"
      },
      "execution_count": 40,
      "outputs": [
        {
          "output_type": "stream",
          "name": "stdout",
          "text": [
            "1\n",
            "<class 'str'>\n"
          ]
        }
      ]
    },
    {
      "cell_type": "code",
      "source": [
        "# multiple input by split method\n",
        "a,b=input().split()\n",
        "print(a,b,sep=\"\\n\")"
      ],
      "metadata": {
        "colab": {
          "base_uri": "https://localhost:8080/"
        },
        "id": "NcR8zq1nuiHX",
        "outputId": "84c0bbd0-bbcd-4926-c966-e8a8dc6e42dd"
      },
      "execution_count": 45,
      "outputs": [
        {
          "output_type": "stream",
          "name": "stdout",
          "text": [
            "kamal kannan\n",
            "kamal\n",
            "kannan\n"
          ]
        }
      ]
    },
    {
      "cell_type": "markdown",
      "source": [
        "Data types\n",
        "numeric-int, float, complex(j)\n",
        "sequence-list, string, tuple\n",
        "mapping type- dist\n",
        "boolean-bool\n",
        "set type-set , frozen set\n",
        "binary type -bytes, bytearray, memoryview"
      ],
      "metadata": {
        "id": "5BmDNfA1vqjr"
      }
    }
  ]
}