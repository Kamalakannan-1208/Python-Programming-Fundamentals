{
  "nbformat": 4,
  "nbformat_minor": 0,
  "metadata": {
    "colab": {
      "provenance": [],
      "authorship_tag": "ABX9TyPSxOM7GZrjSI0QRuV+Dxmf",
      "include_colab_link": true
    },
    "kernelspec": {
      "name": "python3",
      "display_name": "Python 3"
    },
    "language_info": {
      "name": "python"
    }
  },
  "cells": [
    {
      "cell_type": "markdown",
      "metadata": {
        "id": "view-in-github",
        "colab_type": "text"
      },
      "source": [
        "<a href=\"https://colab.research.google.com/github/Kamalakannan-1208/Python-Programming-Fundamentals/blob/main/Day_2.ipynb\" target=\"_parent\"><img src=\"https://colab.research.google.com/assets/colab-badge.svg\" alt=\"Open In Colab\"/></a>"
      ]
    },
    {
      "cell_type": "markdown",
      "source": [
        "string"
      ],
      "metadata": {
        "id": "q4VfFBktzQu7"
      }
    },
    {
      "cell_type": "code",
      "execution_count": null,
      "metadata": {
        "colab": {
          "base_uri": "https://localhost:8080/"
        },
        "id": "nNc2jETJx-ME",
        "outputId": "d1fe4381-c9ce-47e6-db27-883f93db0f3f"
      },
      "outputs": [
        {
          "output_type": "stream",
          "name": "stdout",
          "text": [
            "<class 'str'>\n",
            "<class 'str'>\n"
          ]
        }
      ],
      "source": [
        "string_='kamal'\n",
        "string=\"kamal\"\n",
        "print(type(string_))\n",
        "print(type(string))\n"
      ]
    },
    {
      "cell_type": "code",
      "source": [
        "#index\n",
        "string[0]\n",
        "string[-1]"
      ],
      "metadata": {
        "colab": {
          "base_uri": "https://localhost:8080/",
          "height": 36
        },
        "id": "EX99DTCvzVYg",
        "outputId": "74542243-3d85-4972-f714-d990c47ab4d8"
      },
      "execution_count": null,
      "outputs": [
        {
          "output_type": "execute_result",
          "data": {
            "text/plain": [
              "'l'"
            ],
            "application/vnd.google.colaboratory.intrinsic+json": {
              "type": "string"
            }
          },
          "metadata": {},
          "execution_count": 7
        }
      ]
    },
    {
      "cell_type": "code",
      "source": [
        "#slicing\n",
        "print(string[0:3])\n",
        "print(string[0:])\n",
        "print(string[:4])\n",
        "print(string[:])\n",
        "print(string[::-1])\n",
        "print(string[::2])"
      ],
      "metadata": {
        "colab": {
          "base_uri": "https://localhost:8080/"
        },
        "id": "8W75upg1zcJE",
        "outputId": "83fe0a19-aac4-4bbe-aecb-1a91153ba8cd"
      },
      "execution_count": null,
      "outputs": [
        {
          "output_type": "stream",
          "name": "stdout",
          "text": [
            "kam\n",
            "kamal\n",
            "kama\n",
            "kamal\n",
            "lamak\n",
            "kml\n"
          ]
        }
      ]
    },
    {
      "cell_type": "code",
      "source": [
        "# string concatenation -> str1+ str2 = new string object\n",
        "print(\"kamal\"+\"\"+\"khan\")\n",
        "#del string[4:] # immutable\n",
        "del string"
      ],
      "metadata": {
        "colab": {
          "base_uri": "https://localhost:8080/"
        },
        "id": "Tuqy_eB4z2Ne",
        "outputId": "299118bf-4c26-4acf-abf5-3028ce2a0a58"
      },
      "execution_count": null,
      "outputs": [
        {
          "output_type": "stream",
          "name": "stdout",
          "text": [
            "kamalkhan\n"
          ]
        }
      ]
    },
    {
      "cell_type": "markdown",
      "source": [
        "Boolean"
      ],
      "metadata": {
        "id": "Shz61fzS0sAB"
      }
    },
    {
      "cell_type": "code",
      "source": [
        "boolean=bool()\n",
        "print(boolean)\n"
      ],
      "metadata": {
        "colab": {
          "base_uri": "https://localhost:8080/"
        },
        "id": "qDKDmdBd0mgy",
        "outputId": "76e08bcf-5a7a-4b54-86cb-cd07c0b133a8"
      },
      "execution_count": null,
      "outputs": [
        {
          "output_type": "stream",
          "name": "stdout",
          "text": [
            "False\n"
          ]
        }
      ]
    },
    {
      "cell_type": "markdown",
      "source": [
        "List"
      ],
      "metadata": {
        "id": "Kb2QmYpJ1PUV"
      }
    },
    {
      "cell_type": "code",
      "source": [
        "nums=[]\n",
        "print(type(nums))\n",
        "print(type(list()))"
      ],
      "metadata": {
        "id": "1DlSSS6f1O7m",
        "colab": {
          "base_uri": "https://localhost:8080/"
        },
        "outputId": "7008e174-4af5-4edb-d176-9f951c688831"
      },
      "execution_count": null,
      "outputs": [
        {
          "output_type": "stream",
          "name": "stdout",
          "text": [
            "<class 'list'>\n",
            "<class 'list'>\n"
          ]
        }
      ]
    },
    {
      "cell_type": "code",
      "source": [
        "#assess index\n",
        "nums=[1,2,3,4,5]\n",
        "nums[0]\n",
        "nums[-1]"
      ],
      "metadata": {
        "id": "tWtkKp-a01J-",
        "colab": {
          "base_uri": "https://localhost:8080/"
        },
        "outputId": "3d2565d9-d589-4948-bf4f-cb171ba58109"
      },
      "execution_count": null,
      "outputs": [
        {
          "output_type": "execute_result",
          "data": {
            "text/plain": [
              "5"
            ]
          },
          "metadata": {},
          "execution_count": 3
        }
      ]
    },
    {
      "cell_type": "code",
      "source": [
        "# update\n",
        "nums[0]=10\n",
        "# deletion\n",
        "del nums[0]\n",
        "nums.remove(5)\n",
        "nums.pop()"
      ],
      "metadata": {
        "colab": {
          "base_uri": "https://localhost:8080/"
        },
        "id": "f8hJyX0BShG3",
        "outputId": "381f9f73-167e-4d7f-f310-c73b16474619"
      },
      "execution_count": null,
      "outputs": [
        {
          "output_type": "execute_result",
          "data": {
            "text/plain": [
              "4"
            ]
          },
          "metadata": {},
          "execution_count": 4
        }
      ]
    },
    {
      "cell_type": "code",
      "source": [
        "# adding\n",
        "nums.append(10)\n",
        "nums.extend([11,12])\n",
        "nums.insert(0,0)"
      ],
      "metadata": {
        "id": "1ElVF3p4SqeQ"
      },
      "execution_count": null,
      "outputs": []
    },
    {
      "cell_type": "markdown",
      "source": [
        "tuple"
      ],
      "metadata": {
        "id": "GMAlUKnJTRhZ"
      }
    },
    {
      "cell_type": "code",
      "source": [
        "tup=(1,2)\n",
        "tup1=tuple([1,2])\n",
        "tup2=(1,)*3\n",
        "#acess\n",
        "tup[0]\n",
        "#deletion\n",
        "del tup\n",
        "# concatena\n",
        "tup_concate=tup1+tup2\n"
      ],
      "metadata": {
        "id": "8IOthwtqTRIp"
      },
      "execution_count": null,
      "outputs": []
    },
    {
      "cell_type": "code",
      "source": [
        "#built_in functions\n",
        "print(len(tup1))\n",
        "print(max(tup1))\n",
        "print(min(tup1))\n",
        "print(any(tup1))\n",
        "print(all(tup1))\n",
        "print(sorted(tup1))\n",
        "print(sum(tup1))\n",
        "for i in enumerate(tup1):\n",
        "  print(i)\n"
      ],
      "metadata": {
        "colab": {
          "base_uri": "https://localhost:8080/"
        },
        "id": "ydtHkBCbT-vI",
        "outputId": "62a6a4c0-c0c7-4436-88a8-e2f55d81768d"
      },
      "execution_count": null,
      "outputs": [
        {
          "output_type": "stream",
          "name": "stdout",
          "text": [
            "2\n",
            "2\n",
            "1\n",
            "True\n",
            "True\n",
            "[1, 2]\n",
            "3\n",
            "(0, 1)\n",
            "(1, 2)\n"
          ]
        }
      ]
    },
    {
      "cell_type": "code",
      "source": [
        "# methods\n",
        "print(tup1.count(1))\n",
        "print(tup1.index(1))"
      ],
      "metadata": {
        "colab": {
          "base_uri": "https://localhost:8080/"
        },
        "id": "C5bhptRzVFhd",
        "outputId": "c8903d24-bf60-4794-e8af-602cc69c0b18"
      },
      "execution_count": null,
      "outputs": [
        {
          "output_type": "stream",
          "name": "stdout",
          "text": [
            "1\n",
            "0\n"
          ]
        }
      ]
    },
    {
      "cell_type": "markdown",
      "source": [
        "set"
      ],
      "metadata": {
        "id": "ErKe2UYGVId6"
      }
    },
    {
      "cell_type": "code",
      "source": [
        "set1={1,2,3,4,5}\n",
        "set2=set([1,2,3,4,5])\n",
        "# access\n",
        "for i in set1:\n",
        "  print(i)"
      ],
      "metadata": {
        "colab": {
          "base_uri": "https://localhost:8080/"
        },
        "id": "OgRiJbKaVKEU",
        "outputId": "be4fb23d-a3ee-4e99-a397-0bff1ccd5b69"
      },
      "execution_count": null,
      "outputs": [
        {
          "output_type": "stream",
          "name": "stdout",
          "text": [
            "1\n",
            "2\n",
            "3\n",
            "4\n",
            "5\n"
          ]
        }
      ]
    },
    {
      "cell_type": "code",
      "source": [
        "# deletion\n",
        "#del set1\n",
        "set1.clear()\n",
        "set2.remove(1)\n",
        "set2.discard(1)\n",
        "set2.pop()"
      ],
      "metadata": {
        "colab": {
          "base_uri": "https://localhost:8080/"
        },
        "id": "ICjH0dWSVqSk",
        "outputId": "67cf1138-68f8-4ed4-9aba-bb3075f87f7d"
      },
      "execution_count": null,
      "outputs": [
        {
          "output_type": "execute_result",
          "data": {
            "text/plain": [
              "2"
            ]
          },
          "metadata": {},
          "execution_count": 25
        }
      ]
    },
    {
      "cell_type": "code",
      "source": [
        "# adding\n",
        "set2.add(2)\n",
        "set2.update([1,2,3])"
      ],
      "metadata": {
        "id": "_4fYQRnqW1VB"
      },
      "execution_count": null,
      "outputs": []
    },
    {
      "cell_type": "markdown",
      "source": [
        "Frozen set"
      ],
      "metadata": {
        "id": "0Y1d-GYmYE9m"
      }
    },
    {
      "cell_type": "code",
      "source": [
        "frozen=frozenset([1,2,3,4,5])\n",
        "print(type(frozen))"
      ],
      "metadata": {
        "colab": {
          "base_uri": "https://localhost:8080/"
        },
        "id": "hGyLmDCuYHNX",
        "outputId": "5d6a9e6e-2a00-49c4-eb6f-b7909a2d5297"
      },
      "execution_count": null,
      "outputs": [
        {
          "output_type": "stream",
          "name": "stdout",
          "text": [
            "<class 'frozenset'>\n"
          ]
        }
      ]
    },
    {
      "cell_type": "markdown",
      "source": [
        "Dictionary"
      ],
      "metadata": {
        "id": "acqtW6PVYOxq"
      }
    },
    {
      "cell_type": "code",
      "source": [
        "# creation\n",
        "dict1={1:\"kamal\",2:\"kannan\"}\n",
        "dict2=dict(key1=\"val1\",key2=\"value2\")\n",
        "# updation\n",
        "dict1[1]=\"kamal.\""
      ],
      "metadata": {
        "id": "D3KzB03gYNhJ"
      },
      "execution_count": null,
      "outputs": []
    },
    {
      "cell_type": "code",
      "source": [
        "# acess\n",
        "print(dict1[1])\n",
        "print(dict1.get(3,\"not found\"))"
      ],
      "metadata": {
        "colab": {
          "base_uri": "https://localhost:8080/"
        },
        "id": "3QA7tQGgZHjW",
        "outputId": "633cea16-de8c-46e5-ae0c-3e8f6d76283f"
      },
      "execution_count": null,
      "outputs": [
        {
          "output_type": "stream",
          "name": "stdout",
          "text": [
            "kamal.\n",
            "not found\n"
          ]
        }
      ]
    },
    {
      "cell_type": "code",
      "source": [
        "#deltion\n",
        "dict1.pop()\n",
        "dict1.popitem()\n",
        "del dict1[1]\n"
      ],
      "metadata": {
        "id": "Zf-QXwI2ZVBa"
      },
      "execution_count": null,
      "outputs": []
    },
    {
      "cell_type": "markdown",
      "source": [
        "Array"
      ],
      "metadata": {
        "id": "_ljtcJTrmxrU"
      }
    },
    {
      "cell_type": "code",
      "source": [
        "import array\n",
        "arr=array.array('i',[1,2,3,4,5])\n",
        "print(type(arr))"
      ],
      "metadata": {
        "colab": {
          "base_uri": "https://localhost:8080/"
        },
        "id": "WyCNEdcomy4Q",
        "outputId": "3472c761-104f-4adf-8efb-2afacbbd4f41"
      },
      "execution_count": null,
      "outputs": [
        {
          "output_type": "stream",
          "name": "stdout",
          "text": [
            "<class 'array.array'>\n"
          ]
        }
      ]
    },
    {
      "cell_type": "code",
      "source": [
        "# access\n",
        "print(arr[0])\n",
        "# add\n",
        "arr.append(6)\n",
        "arr.extend([7,8])\n",
        "arr.insert(0,0)\n",
        "# updation\n",
        "arr[0]=10\n",
        "# deletion\n",
        "arr.pop()\n",
        "arr.remove(2)\n",
        "del arr\n",
        "\n"
      ],
      "metadata": {
        "colab": {
          "base_uri": "https://localhost:8080/"
        },
        "id": "OLaXg-1gnAFP",
        "outputId": "8f796445-de72-4abf-dd3b-e8fd1b3b92fc"
      },
      "execution_count": null,
      "outputs": [
        {
          "output_type": "stream",
          "name": "stdout",
          "text": [
            "1\n"
          ]
        }
      ]
    }
  ]
}