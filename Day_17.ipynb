{
  "nbformat": 4,
  "nbformat_minor": 0,
  "metadata": {
    "colab": {
      "provenance": [],
      "authorship_tag": "ABX9TyN9vhdGp33tPRLv6uf1l7MP",
      "include_colab_link": true
    },
    "kernelspec": {
      "name": "python3",
      "display_name": "Python 3"
    },
    "language_info": {
      "name": "python"
    }
  },
  "cells": [
    {
      "cell_type": "markdown",
      "metadata": {
        "id": "view-in-github",
        "colab_type": "text"
      },
      "source": [
        "<a href=\"https://colab.research.google.com/github/Kamalakannan-1208/Python-Programming-Fundamentals/blob/main/Day_17.ipynb\" target=\"_parent\"><img src=\"https://colab.research.google.com/assets/colab-badge.svg\" alt=\"Open In Colab\"/></a>"
      ]
    },
    {
      "cell_type": "markdown",
      "source": [
        "Aggregation Function"
      ],
      "metadata": {
        "id": "TjPBTeuvP9XN"
      }
    },
    {
      "cell_type": "code",
      "execution_count": 1,
      "metadata": {
        "colab": {
          "base_uri": "https://localhost:8080/"
        },
        "id": "-0FkRUf1P0vC",
        "outputId": "f6513385-c7c4-4434-c1f9-e9f98a903a06"
      },
      "outputs": [
        {
          "output_type": "stream",
          "name": "stdout",
          "text": [
            "3.0\n",
            "1.4142135623730951\n"
          ]
        }
      ],
      "source": [
        "import numpy\n",
        "arr=[1,2,3,4,5]\n",
        "# median\n",
        "print(numpy.median(arr))\n",
        "\n",
        "# std\n",
        "print(numpy.std(arr))\n"
      ]
    },
    {
      "cell_type": "code",
      "source": [
        "# variance\n",
        "print(numpy.var(arr))"
      ],
      "metadata": {
        "id": "a9xRmKINQWjY"
      },
      "execution_count": null,
      "outputs": []
    },
    {
      "cell_type": "markdown",
      "source": [
        "Linear Algebra"
      ],
      "metadata": {
        "id": "1rEbwTsIQdyj"
      }
    },
    {
      "cell_type": "code",
      "source": [
        "## matrix manipulation\n",
        "\n",
        "matrix1=numpy.array([[1,2],[4,5]])\n",
        "matrix2=numpy.array([[7,8],[9,10]])\n",
        "\n",
        "# addition\n",
        "print(\"addition\\n\",numpy.add(matrix1,matrix2))\n",
        "\n",
        "# subraction\n",
        "print(\"subtraction\\n\",numpy.subtract(matrix1,matrix2))\n",
        "\n",
        "# multiplication\n",
        "print(\"multiplication\\n\",numpy.multiply(matrix1,matrix2))\n",
        "\n",
        "# division\n",
        "print(\"division\\n\",numpy.divide(matrix1,matrix2))\n",
        "\n",
        "#dot\n",
        "print(\"dot\\n\",numpy.dot(matrix1,matrix2))\n",
        "\n",
        "\n",
        "#squart\n",
        "print(\"squart\\n\",numpy.sqrt(matrix1))\n",
        "\n",
        "# sum\n",
        "print(\"sum\\n\",numpy.sum(matrix1))"
      ],
      "metadata": {
        "colab": {
          "base_uri": "https://localhost:8080/"
        },
        "id": "-SDGCaHOQfXI",
        "outputId": "a6df4fdd-2191-4e5a-c047-692a53d9578b"
      },
      "execution_count": 7,
      "outputs": [
        {
          "output_type": "stream",
          "name": "stdout",
          "text": [
            "addition\n",
            " [[ 8 10]\n",
            " [13 15]]\n",
            "subtraction\n",
            " [[-6 -6]\n",
            " [-5 -5]]\n",
            "multiplication\n",
            " [[ 7 16]\n",
            " [36 50]]\n",
            "division\n",
            " [[0.14285714 0.25      ]\n",
            " [0.44444444 0.5       ]]\n",
            "dot\n",
            " [[25 28]\n",
            " [73 82]]\n",
            "squart\n",
            " [[1.         1.41421356]\n",
            " [2.         2.23606798]]\n",
            "sum\n",
            " 12\n"
          ]
        }
      ]
    },
    {
      "cell_type": "code",
      "source": [
        "## product of vetor and matrices\n",
        "\n",
        "# inner\n",
        "print(\"inner\\n\",numpy.inner(matrix1,matrix2))\n",
        "\n",
        "# cross\n",
        "print(\"cross\\n\",numpy.cross(matrix1,matrix2))\n",
        "\n",
        "#outer\n",
        "print(\"outer\\n\",numpy.outer(matrix1,matrix2))"
      ],
      "metadata": {
        "colab": {
          "base_uri": "https://localhost:8080/"
        },
        "id": "yRADeNGySWRQ",
        "outputId": "0893c20f-0853-43de-bf7b-de8009752c1a"
      },
      "execution_count": 8,
      "outputs": [
        {
          "output_type": "stream",
          "name": "stdout",
          "text": [
            "inner\n",
            " [[23 29]\n",
            " [68 86]]\n",
            "cross\n",
            " [-6 -5]\n",
            "outer\n",
            " [[ 7  8  9 10]\n",
            " [14 16 18 20]\n",
            " [28 32 36 40]\n",
            " [35 40 45 50]]\n"
          ]
        },
        {
          "output_type": "stream",
          "name": "stderr",
          "text": [
            "/tmp/ipython-input-8-912217406.py:7: DeprecationWarning: Arrays of 2-dimensional vectors are deprecated. Use arrays of 3-dimensional vectors instead. (deprecated in NumPy 2.0)\n",
            "  print(\"cross\\n\",numpy.cross(matrix1,matrix2))\n"
          ]
        }
      ]
    },
    {
      "cell_type": "code",
      "source": [
        "#determinant\n",
        "print(\"determinant\\n\",numpy.linalg.det(matrix1))\n",
        "\n",
        "#inverse\n",
        "print(\"inverse\\n\",numpy.linalg.inv(matrix1))\n",
        "\n",
        "#rank\n",
        "print(\"rank\\n\",numpy.linalg.matrix_rank(matrix1))"
      ],
      "metadata": {
        "colab": {
          "base_uri": "https://localhost:8080/"
        },
        "id": "Up8YURmTa4kD",
        "outputId": "105fc294-ecf2-4273-f063-3bdbd5003cea"
      },
      "execution_count": 11,
      "outputs": [
        {
          "output_type": "stream",
          "name": "stdout",
          "text": [
            "determinant\n",
            " -2.9999999999999996\n",
            "inverse\n",
            " [[-1.66666667  0.66666667]\n",
            " [ 1.33333333 -0.33333333]]\n",
            "rank\n",
            " 2\n"
          ]
        }
      ]
    }
  ]
}