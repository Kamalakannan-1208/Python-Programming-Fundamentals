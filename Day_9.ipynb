{
  "nbformat": 4,
  "nbformat_minor": 0,
  "metadata": {
    "colab": {
      "provenance": [],
      "authorship_tag": "ABX9TyNLQY+T39Ii9ctgfqtrORSm",
      "include_colab_link": true
    },
    "kernelspec": {
      "name": "python3",
      "display_name": "Python 3"
    },
    "language_info": {
      "name": "python"
    }
  },
  "cells": [
    {
      "cell_type": "markdown",
      "metadata": {
        "id": "view-in-github",
        "colab_type": "text"
      },
      "source": [
        "<a href=\"https://colab.research.google.com/github/Kamalakannan-1208/Python-Programming-Fundamentals/blob/main/Day_9.ipynb\" target=\"_parent\"><img src=\"https://colab.research.google.com/assets/colab-badge.svg\" alt=\"Open In Colab\"/></a>"
      ]
    },
    {
      "cell_type": "markdown",
      "source": [
        "polymorphism"
      ],
      "metadata": {
        "id": "ZqzKGYNp_LL9"
      }
    },
    {
      "cell_type": "code",
      "execution_count": null,
      "metadata": {
        "colab": {
          "base_uri": "https://localhost:8080/"
        },
        "id": "PYqDHPpu_J9D",
        "outputId": "9699c762-073d-4b29-cf07-e4affd8e2c09"
      },
      "outputs": [
        {
          "output_type": "execute_result",
          "data": {
            "text/plain": [
              "3"
            ]
          },
          "metadata": {},
          "execution_count": 1
        }
      ],
      "source": [
        "# data types\n",
        "len(\"kamal\")\n",
        "len([1,2,3])"
      ]
    },
    {
      "cell_type": "code",
      "source": [
        "# operator overloading\n",
        "class a:\n",
        "  def __init__(self,a):\n",
        "    self.a=a\n",
        "  def __add__(self,b):# magic function\n",
        "    return self.a+b.a\n",
        "obj1=a(1)\n",
        "obj2=a(2)\n",
        "print(obj1+obj2)"
      ],
      "metadata": {
        "colab": {
          "base_uri": "https://localhost:8080/"
        },
        "id": "ELvQVlAR_Zuq",
        "outputId": "83e54936-7c3d-4036-bcff-f1fa67d738cf"
      },
      "execution_count": null,
      "outputs": [
        {
          "output_type": "stream",
          "name": "stdout",
          "text": [
            "3\n"
          ]
        }
      ]
    },
    {
      "cell_type": "code",
      "source": [
        "# function overloading\n",
        "def add(a,b):\n",
        "  return a+b\n",
        "def add(a,b,c):\n",
        "  return a+b+c\n",
        "\n",
        "#print(add(1,2)) not supported in python\n",
        "print(add(1,2,3))\n"
      ],
      "metadata": {
        "colab": {
          "base_uri": "https://localhost:8080/"
        },
        "id": "vgKq-c3W_XY3",
        "outputId": "9d757296-53f5-431d-cd76-e25aa016e746"
      },
      "execution_count": null,
      "outputs": [
        {
          "output_type": "stream",
          "name": "stdout",
          "text": [
            "6\n"
          ]
        }
      ]
    },
    {
      "cell_type": "code",
      "source": [
        "# inheritance and overriding\n",
        "class parent:\n",
        "  def have(self):\n",
        "    print(\"parent\")\n",
        "class child(parent):\n",
        "  pass\n",
        "  #def have(self):\n",
        "  # print(\"child\")\n",
        "obj=child()\n",
        "obj.have()"
      ],
      "metadata": {
        "colab": {
          "base_uri": "https://localhost:8080/"
        },
        "id": "chygRGNbAFts",
        "outputId": "181ad737-a767-4bb4-f130-40129f4ff823"
      },
      "execution_count": null,
      "outputs": [
        {
          "output_type": "stream",
          "name": "stdout",
          "text": [
            "parent\n"
          ]
        }
      ]
    },
    {
      "cell_type": "markdown",
      "source": [
        "Abstract class"
      ],
      "metadata": {
        "id": "uPqPh3J64wx-"
      }
    },
    {
      "cell_type": "code",
      "source": [
        "from abc import ABC, abstractclassmethod\n",
        "# abstaract base class\n",
        "class animal(ABC):\n",
        "  @property\n",
        "  @abstractclassmethod\n",
        "  def sound(self): # abstract method\n",
        "    pass\n",
        "  def sleep(self):#concrete method\n",
        "    print(\"sleep\")\n",
        "# concrete class\n",
        "class Dog(animal):\n",
        "  @property\n",
        "  def sound(self):\n",
        "    print(\"bark\")\n",
        "bulldog=Dog()\n",
        "bulldog.sound\n",
        "bulldog.sleep()\n",
        "\n",
        "#"
      ],
      "metadata": {
        "colab": {
          "base_uri": "https://localhost:8080/"
        },
        "id": "F7dAnlEY4yoD",
        "outputId": "648bd99f-c9e0-4061-f9b5-cf0261fef29d"
      },
      "execution_count": null,
      "outputs": [
        {
          "output_type": "stream",
          "name": "stdout",
          "text": [
            "bark\n",
            "sleep\n"
          ]
        }
      ]
    },
    {
      "cell_type": "markdown",
      "source": [
        "Encapsulation"
      ],
      "metadata": {
        "id": "fTQ1WXeMNwNS"
      }
    },
    {
      "cell_type": "code",
      "source": [
        "class Bank:\n",
        "  def __init__(self,name,balance):\n",
        "    self._name=name\n",
        "    self.__balance=balance # private attribute\n",
        "  def _deposit(self,amount):\n",
        "    print(f\"Amount deposit: {amount} so balance : {self.__balance}\")\n",
        "    self.__balance+=amount\n",
        "  def get_balance(self):\n",
        "    print(\"Balance:\",self.__balance)\n",
        "  def withdraw(self,amount):\n",
        "    if self.__balance>=amount:\n",
        "      self.__balance-=amount\n",
        "      print(f\"Amount withdraw: {amount} so balance : {self.__balance}\")\n",
        "    else:\n",
        "      print(\"insufficient balance\")\n",
        "Account1=Bank(\"kamal\",1000)\n",
        "Account1._deposit(1000)\n",
        "Account1.get_balance()\n",
        "Account1.withdraw(500)\n",
        "Account1.get_balance()\n",
        "\n"
      ],
      "metadata": {
        "colab": {
          "base_uri": "https://localhost:8080/"
        },
        "id": "aow0iuDSN0FP",
        "outputId": "e20e5bfd-b21b-49ea-bb4f-ae2674456fbf"
      },
      "execution_count": null,
      "outputs": [
        {
          "output_type": "stream",
          "name": "stdout",
          "text": [
            "Amount deposit: 1000 so balance : 1000\n",
            "Balance: 2000\n",
            "Amount withdraw: 500 so balance : 1500\n",
            "Balance: 1500\n"
          ]
        }
      ]
    },
    {
      "cell_type": "code",
      "source": [
        "#Account1.self_name  # protected only accesible through class and subclass"
      ],
      "metadata": {
        "id": "ChBHgwV6S3cn"
      },
      "execution_count": null,
      "outputs": []
    },
    {
      "cell_type": "markdown",
      "source": [
        "Iterator"
      ],
      "metadata": {
        "id": "WPyAJ8w-92-l"
      }
    },
    {
      "cell_type": "code",
      "source": [
        "\n",
        "iterable=[1,2,3]\n",
        "it=iter(iterable)\n",
        "print(it)\n",
        "print(it.__next__())\n",
        "print(next(it))\n",
        "print(next(it))\n",
        "#stop iteration print(next(it))\n"
      ],
      "metadata": {
        "colab": {
          "base_uri": "https://localhost:8080/"
        },
        "id": "FvWx3s1W93_A",
        "outputId": "8d152334-4489-4f61-fc11-c46bdb1d1551"
      },
      "execution_count": 4,
      "outputs": [
        {
          "output_type": "stream",
          "name": "stdout",
          "text": [
            "<list_iterator object at 0x7becfbbb2140>\n",
            "1\n",
            "2\n",
            "3\n"
          ]
        }
      ]
    },
    {
      "cell_type": "code",
      "source": [
        "# iterator from scratch\n",
        "class sequence:\n",
        "  def __init__(self,max):\n",
        "    self.value=0\n",
        "    self.max=max\n",
        "  def __iter__(self):\n",
        "    return self\n",
        "  def __next__(self):\n",
        "    if self.value<=self.max:\n",
        "      current=self.value\n",
        "      self.value+=1\n",
        "      return current\n",
        "    else:\n",
        "      raise StopIteration\n",
        "\n",
        "sequence=sequence(4)\n",
        "for i in sequence:\n",
        "  print(i)"
      ],
      "metadata": {
        "colab": {
          "base_uri": "https://localhost:8080/"
        },
        "id": "TaR9X_rA-bb7",
        "outputId": "8cb685bc-8842-4384-c4da-988f9a6f4e8d"
      },
      "execution_count": 8,
      "outputs": [
        {
          "output_type": "stream",
          "name": "stdout",
          "text": [
            "0\n",
            "1\n",
            "2\n",
            "3\n",
            "4\n"
          ]
        }
      ]
    },
    {
      "cell_type": "markdown",
      "source": [
        "Generator"
      ],
      "metadata": {
        "id": "reuKudaP-Z6n"
      }
    },
    {
      "cell_type": "code",
      "source": [
        "def func():\n",
        "  yield 2\n",
        "fun=func()\n",
        "print(fun)\n"
      ],
      "metadata": {
        "colab": {
          "base_uri": "https://localhost:8080/"
        },
        "id": "vzqxCmXr_RGX",
        "outputId": "2bc0b362-eeb0-4dbb-960a-7b8015556d20"
      },
      "execution_count": 9,
      "outputs": [
        {
          "output_type": "stream",
          "name": "stdout",
          "text": [
            "<generator object func at 0x7becd3511010>\n"
          ]
        }
      ]
    },
    {
      "cell_type": "code",
      "source": [
        "def func(max):\n",
        "  i=0\n",
        "  while(i<max):\n",
        "    if i%2==0:\n",
        "      yield i\n",
        "    i+=1\n",
        "for i in func(10):\n",
        "  print(i)\n"
      ],
      "metadata": {
        "colab": {
          "base_uri": "https://localhost:8080/"
        },
        "id": "Q25PhdCI_oQS",
        "outputId": "0f34e1e4-c057-4fc1-bd5d-407361ac6ecd"
      },
      "execution_count": 11,
      "outputs": [
        {
          "output_type": "stream",
          "name": "stdout",
          "text": [
            "0\n",
            "2\n",
            "4\n",
            "6\n",
            "8\n"
          ]
        }
      ]
    },
    {
      "cell_type": "code",
      "source": [
        "# generator expresion\n",
        "x=(i*i for i in range(5))\n",
        "print(x)\n",
        "for i in x:\n",
        "  print(i)"
      ],
      "metadata": {
        "colab": {
          "base_uri": "https://localhost:8080/"
        },
        "id": "THZQp4ev_cgD",
        "outputId": "da57795d-f3fa-482d-c902-7eb2e1afc45c"
      },
      "execution_count": 13,
      "outputs": [
        {
          "output_type": "stream",
          "name": "stdout",
          "text": [
            "<generator object <genexpr> at 0x7becd36225a0>\n",
            "0\n",
            "1\n",
            "4\n",
            "9\n",
            "16\n"
          ]
        }
      ]
    }
  ]
}