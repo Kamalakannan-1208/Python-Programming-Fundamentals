{
  "nbformat": 4,
  "nbformat_minor": 0,
  "metadata": {
    "colab": {
      "provenance": [],
      "authorship_tag": "ABX9TyNgCW+8tzz8aJ5kfhG7QWWu",
      "include_colab_link": true
    },
    "kernelspec": {
      "name": "python3",
      "display_name": "Python 3"
    },
    "language_info": {
      "name": "python"
    }
  },
  "cells": [
    {
      "cell_type": "markdown",
      "metadata": {
        "id": "view-in-github",
        "colab_type": "text"
      },
      "source": [
        "<a href=\"https://colab.research.google.com/github/Kamalakannan-1208/Python-Programming-Fundamentals/blob/main/Day_5.ipynb\" target=\"_parent\"><img src=\"https://colab.research.google.com/assets/colab-badge.svg\" alt=\"Open In Colab\"/></a>"
      ]
    },
    {
      "cell_type": "markdown",
      "source": [
        "Functions"
      ],
      "metadata": {
        "id": "1BEh3lGgeoU6"
      }
    },
    {
      "cell_type": "code",
      "execution_count": null,
      "metadata": {
        "colab": {
          "base_uri": "https://localhost:8080/"
        },
        "id": "yyNzfP5Xek7x",
        "outputId": "14593a18-4fcc-4578-b51f-10b82c9f5e27"
      },
      "outputs": [
        {
          "output_type": "stream",
          "name": "stdout",
          "text": [
            "parameter\n"
          ]
        }
      ],
      "source": [
        "def var(parameter):\n",
        "\n",
        "  return parameter\n",
        "\n",
        "#calling\n",
        "returned_value=var(\"parameter\")\n",
        "print(returned_value)"
      ]
    },
    {
      "cell_type": "markdown",
      "source": [
        "Arguments"
      ],
      "metadata": {
        "id": "-u4rVU3se823"
      }
    },
    {
      "cell_type": "code",
      "source": [
        "#positional arg\n",
        "def pos(age, name):\n",
        "  print(f\"{name} age is {age}\")\n",
        "pos(24,\"kamalakannan\")"
      ],
      "metadata": {
        "colab": {
          "base_uri": "https://localhost:8080/"
        },
        "id": "pCrHAeMce7As",
        "outputId": "866ee549-3e12-46b9-9215-8e12b73368b2"
      },
      "execution_count": null,
      "outputs": [
        {
          "output_type": "stream",
          "name": "stdout",
          "text": [
            "kamalakannan age is 24\n"
          ]
        }
      ]
    },
    {
      "cell_type": "code",
      "source": [
        "#default arg\n",
        "def default(age, name=\"kamalakannan\"):\n",
        "  print(f\"{name} age is {age}\")\n",
        "default(24)"
      ],
      "metadata": {
        "colab": {
          "base_uri": "https://localhost:8080/"
        },
        "id": "dXY7GYb8fUx6",
        "outputId": "747de75d-6619-41a6-bc69-0411c79435b5"
      },
      "execution_count": null,
      "outputs": [
        {
          "output_type": "stream",
          "name": "stdout",
          "text": [
            "kamalakannan age is 24\n"
          ]
        }
      ]
    },
    {
      "cell_type": "code",
      "source": [
        "#keyword arg\n",
        "def keyword(age, name):\n",
        "  print(f\"{name} age is {age}\")\n",
        "keyword(name=\"kamalakannan\",age=24)"
      ],
      "metadata": {
        "colab": {
          "base_uri": "https://localhost:8080/"
        },
        "id": "b-OgWjAcghWe",
        "outputId": "91215ef0-4ebd-4374-d510-7cb48338a48d"
      },
      "execution_count": null,
      "outputs": [
        {
          "output_type": "stream",
          "name": "stdout",
          "text": [
            "kamalakannan age is 24\n"
          ]
        }
      ]
    },
    {
      "cell_type": "code",
      "source": [
        "#Arbitary keywork arg\n",
        "#*ags\n",
        "def without_key(*args):\n",
        "  print(args)\n",
        "  print(type(args))\n",
        "without_key(1,2,3,4,5)\n"
      ],
      "metadata": {
        "colab": {
          "base_uri": "https://localhost:8080/"
        },
        "id": "UKHUD5amfbU9",
        "outputId": "8f708026-4454-4014-8134-fa42729ee914"
      },
      "execution_count": null,
      "outputs": [
        {
          "output_type": "stream",
          "name": "stdout",
          "text": [
            "(1, 2, 3, 4, 5)\n",
            "<class 'tuple'>\n"
          ]
        }
      ]
    },
    {
      "cell_type": "code",
      "source": [
        "#**kwargs\n",
        "def with_key(**kwargs):\n",
        "  print(kwargs)\n",
        "  print(type(kwargs))\n",
        "with_key(name=\"kamalakannan\",age=24)"
      ],
      "metadata": {
        "colab": {
          "base_uri": "https://localhost:8080/"
        },
        "id": "KeCwGi67ftbP",
        "outputId": "8b07d610-8a81-4d35-b571-38336811c607"
      },
      "execution_count": null,
      "outputs": [
        {
          "output_type": "stream",
          "name": "stdout",
          "text": [
            "{'name': 'kamalakannan', 'age': 24}\n",
            "<class 'dict'>\n"
          ]
        }
      ]
    },
    {
      "cell_type": "code",
      "source": [
        "#pass function as arg\n",
        "def squar(value):\n",
        "  return value**2\n",
        "def take_value(func,value):\n",
        "  result=func(value)\n",
        "  return result\n",
        "take_value(squar,5)"
      ],
      "metadata": {
        "colab": {
          "base_uri": "https://localhost:8080/"
        },
        "id": "i5gNkFknguqi",
        "outputId": "92759471-ba92-4251-c5b2-5f9e17fc47b5"
      },
      "execution_count": null,
      "outputs": [
        {
          "output_type": "execute_result",
          "data": {
            "text/plain": [
              "25"
            ]
          },
          "metadata": {},
          "execution_count": 11
        }
      ]
    },
    {
      "cell_type": "markdown",
      "source": [
        "Scope"
      ],
      "metadata": {
        "id": "YFQvI0wlf4S5"
      }
    },
    {
      "cell_type": "code",
      "source": [
        "#local scope\n",
        "def local():\n",
        "  name=\"kamalakannan\" #global name=\"kamalakannan\"\n",
        "  print(name)\n",
        "local()\n",
        "print(name)"
      ],
      "metadata": {
        "colab": {
          "base_uri": "https://localhost:8080/",
          "height": 193
        },
        "id": "yKUzR5gjf5oJ",
        "outputId": "13310d06-4222-4157-927b-96d1968cfd29"
      },
      "execution_count": null,
      "outputs": [
        {
          "output_type": "stream",
          "name": "stdout",
          "text": [
            "kamalakannan\n"
          ]
        },
        {
          "output_type": "error",
          "ename": "NameError",
          "evalue": "name 'name' is not defined",
          "traceback": [
            "\u001b[0;31m---------------------------------------------------------------------------\u001b[0m",
            "\u001b[0;31mNameError\u001b[0m                                 Traceback (most recent call last)",
            "\u001b[0;32m<ipython-input-7-74b544e59b16>\u001b[0m in \u001b[0;36m<cell line: 0>\u001b[0;34m()\u001b[0m\n\u001b[1;32m      4\u001b[0m   \u001b[0mprint\u001b[0m\u001b[0;34m(\u001b[0m\u001b[0mname\u001b[0m\u001b[0;34m)\u001b[0m\u001b[0;34m\u001b[0m\u001b[0;34m\u001b[0m\u001b[0m\n\u001b[1;32m      5\u001b[0m \u001b[0mlocal\u001b[0m\u001b[0;34m(\u001b[0m\u001b[0;34m)\u001b[0m\u001b[0;34m\u001b[0m\u001b[0;34m\u001b[0m\u001b[0m\n\u001b[0;32m----> 6\u001b[0;31m \u001b[0mprint\u001b[0m\u001b[0;34m(\u001b[0m\u001b[0mname\u001b[0m\u001b[0;34m)\u001b[0m\u001b[0;34m\u001b[0m\u001b[0;34m\u001b[0m\u001b[0m\n\u001b[0m",
            "\u001b[0;31mNameError\u001b[0m: name 'name' is not defined"
          ]
        }
      ]
    },
    {
      "cell_type": "code",
      "source": [
        "#global scope\n",
        "name=\"kamalakannan\"\n",
        "def global_scope():\n",
        "  print(name)\n",
        "global_scope()\n",
        "print(name)"
      ],
      "metadata": {
        "colab": {
          "base_uri": "https://localhost:8080/"
        },
        "id": "VDrdyUz0gCcu",
        "outputId": "885a5784-6521-44f6-f944-a8c8370263f7"
      },
      "execution_count": null,
      "outputs": [
        {
          "output_type": "stream",
          "name": "stdout",
          "text": [
            "kamalakannan\n",
            "kamalakannan\n"
          ]
        }
      ]
    },
    {
      "cell_type": "code",
      "source": [
        "#shadowing\n",
        "name=\"kamalakannan\"\n",
        "def shadow():\n",
        "  name=\"shadow\"\n",
        "  print(name)\n",
        "shadow()\n",
        "print(name)"
      ],
      "metadata": {
        "colab": {
          "base_uri": "https://localhost:8080/"
        },
        "id": "ny2WWZORgGIK",
        "outputId": "3cf5b3eb-2e44-4fd8-b320-65a29ef7267d"
      },
      "execution_count": null,
      "outputs": [
        {
          "output_type": "stream",
          "name": "stdout",
          "text": [
            "shadow\n",
            "kamalakannan\n"
          ]
        }
      ]
    },
    {
      "cell_type": "markdown",
      "source": [
        "Lambda Function"
      ],
      "metadata": {
        "id": "e_0F6SANLYdm"
      }
    },
    {
      "cell_type": "code",
      "source": [
        "add_two=lambda a: a+2\n",
        "print(add_two(2))"
      ],
      "metadata": {
        "colab": {
          "base_uri": "https://localhost:8080/"
        },
        "id": "MmM7qn3lLaiN",
        "outputId": "bf34644d-8042-4419-c038-37d2e7bd77f4"
      },
      "execution_count": null,
      "outputs": [
        {
          "output_type": "stream",
          "name": "stdout",
          "text": [
            "4\n"
          ]
        }
      ]
    },
    {
      "cell_type": "code",
      "source": [
        "even= lambda a: \"even\" if a%2==0 else \"odd\"\n",
        "print(even(2))\n"
      ],
      "metadata": {
        "colab": {
          "base_uri": "https://localhost:8080/"
        },
        "id": "9laXhuqSLr5n",
        "outputId": "2a4e560f-41e5-4c48-ae72-0215b8afa8a1"
      },
      "execution_count": null,
      "outputs": [
        {
          "output_type": "stream",
          "name": "stdout",
          "text": [
            "even\n"
          ]
        }
      ]
    },
    {
      "cell_type": "code",
      "source": [
        "# filter function\n",
        "nums=[1,2,3,4,5,6,7,8,9,10]\n",
        "evens=list(filter(lambda a: a%2==0,nums))\n",
        "print(evens)"
      ],
      "metadata": {
        "colab": {
          "base_uri": "https://localhost:8080/"
        },
        "id": "DElhz7QGMLQe",
        "outputId": "5286bdee-a545-442e-dc00-8a01a066be01"
      },
      "execution_count": null,
      "outputs": [
        {
          "output_type": "stream",
          "name": "stdout",
          "text": [
            "[2, 4, 6, 8, 10]\n"
          ]
        }
      ]
    },
    {
      "cell_type": "code",
      "source": [
        "# maps\n",
        "double=list(map(lambda a:a*2, nums))\n",
        "print(double)"
      ],
      "metadata": {
        "colab": {
          "base_uri": "https://localhost:8080/"
        },
        "id": "-5N1sT_7MSx5",
        "outputId": "b44ff4ea-84e4-4f44-da88-504a1ea4d882"
      },
      "execution_count": null,
      "outputs": [
        {
          "output_type": "stream",
          "name": "stdout",
          "text": [
            "[2, 4, 6, 8, 10, 12, 14, 16, 18, 20]\n"
          ]
        }
      ]
    },
    {
      "cell_type": "code",
      "source": [
        "# reduce\n",
        "from functools import reduce\n",
        "value=reduce(lambda a,b:a*b,nums)\n",
        "print(value)"
      ],
      "metadata": {
        "colab": {
          "base_uri": "https://localhost:8080/"
        },
        "id": "rqi6It0SMf1D",
        "outputId": "d44aec91-94d1-4a24-f0ea-6b7e6aabbcc0"
      },
      "execution_count": null,
      "outputs": [
        {
          "output_type": "stream",
          "name": "stdout",
          "text": [
            "3628800\n"
          ]
        }
      ]
    }
  ]
}