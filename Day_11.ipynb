{
  "nbformat": 4,
  "nbformat_minor": 0,
  "metadata": {
    "colab": {
      "provenance": [],
      "authorship_tag": "ABX9TyMJNTb4jGyZfBx68vxiOVuV",
      "include_colab_link": true
    },
    "kernelspec": {
      "name": "python3",
      "display_name": "Python 3"
    },
    "language_info": {
      "name": "python"
    }
  },
  "cells": [
    {
      "cell_type": "markdown",
      "metadata": {
        "id": "view-in-github",
        "colab_type": "text"
      },
      "source": [
        "<a href=\"https://colab.research.google.com/github/Kamalakannan-1208/Python-Programming-Fundamentals/blob/main/Day_11.ipynb\" target=\"_parent\"><img src=\"https://colab.research.google.com/assets/colab-badge.svg\" alt=\"Open In Colab\"/></a>"
      ]
    },
    {
      "cell_type": "code",
      "execution_count": 15,
      "metadata": {
        "id": "EHdyF3xl9zA2",
        "colab": {
          "base_uri": "https://localhost:8080/"
        },
        "outputId": "e737d5dc-f89d-4598-cde6-f082becb16c4"
      },
      "outputs": [
        {
          "output_type": "execute_result",
          "data": {
            "text/plain": [
              "['kamalakannan\\n',\n",
              " 'kamalakannan\\n',\n",
              " 'kamalakannan\\n',\n",
              " 'kamalakannan\\n',\n",
              " 'kamalakannan\\n']"
            ]
          },
          "metadata": {},
          "execution_count": 15
        }
      ],
      "source": [
        "# file opening and creating\n",
        "file=open(\"textfile\",\"a\")\n",
        "# write method\n",
        "for _ in range(5):\n",
        "  file.write(f\"kamalakannan\\n\")\n",
        "file.close()\n",
        "# reading\n",
        "file1=open(\"textfile\",\"r\")\n",
        "file1.readlines()\n",
        "file1.close()\n",
        "# closing\n",
        "file.close()"
      ]
    },
    {
      "cell_type": "code",
      "source": [
        "# creating csv file\n",
        "names=[\"kamal\",\"kumar\",\"kaviya\",\"shruthi\",\"cavin\"]\n",
        "age=[21,19,22,20,22]\n",
        "gender=[\"M\",\"M\",\"F\",\"F\",\"M\"]\n",
        "with open(\"csvfile.csv\",\"w\") as file:\n",
        "  file.write(\"Name, Age, Geneder\\n\")\n",
        "  for i in range(5):\n",
        "    file.write(f\"{names[i]}, {age[i]}, {gender[i]}\\n\")"
      ],
      "metadata": {
        "id": "V_ATpmIGoMH_"
      },
      "execution_count": 19,
      "outputs": []
    },
    {
      "cell_type": "code",
      "source": [
        "# opening a csv file\n",
        "with open(\"csvfile.csv\",\"r\") as file:\n",
        "  print(file.read())"
      ],
      "metadata": {
        "colab": {
          "base_uri": "https://localhost:8080/"
        },
        "id": "YtmKh3_wqGrk",
        "outputId": "b92d725d-3a46-4248-cbb3-c61b98fc819e"
      },
      "execution_count": 22,
      "outputs": [
        {
          "output_type": "stream",
          "name": "stdout",
          "text": [
            "Name, Age, Geneder\n",
            "kamal, 21, M\n",
            "kumar, 19, M\n",
            "kaviya, 22, F\n",
            "shruthi, 20, F\n",
            "cavin, 22, M\n",
            "\n"
          ]
        }
      ]
    }
  ]
}