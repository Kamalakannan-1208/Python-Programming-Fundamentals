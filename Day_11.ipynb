{
  "nbformat": 4,
  "nbformat_minor": 0,
  "metadata": {
    "colab": {
      "provenance": [],
      "authorship_tag": "ABX9TyOTnsZrnH6CczKMun/dizbd",
      "include_colab_link": true
    },
    "kernelspec": {
      "name": "python3",
      "display_name": "Python 3"
    },
    "language_info": {
      "name": "python"
    }
  },
  "cells": [
    {
      "cell_type": "markdown",
      "metadata": {
        "id": "view-in-github",
        "colab_type": "text"
      },
      "source": [
        "<a href=\"https://colab.research.google.com/github/Kamalakannan-1208/Python-Programming-Fundamentals/blob/main/Day_11.ipynb\" target=\"_parent\"><img src=\"https://colab.research.google.com/assets/colab-badge.svg\" alt=\"Open In Colab\"/></a>"
      ]
    },
    {
      "cell_type": "code",
      "execution_count": 2,
      "metadata": {
        "id": "EHdyF3xl9zA2"
      },
      "outputs": [],
      "source": [
        "# file opening and creating\n",
        "file=open(\"textfile\",\"a\")\n",
        "# write method\n",
        "for _ in range(5):\n",
        "  file.write(f\"kamalakannan\\n\")\n",
        "file.close()\n",
        "# reading\n",
        "file1=open(\"textfile\",\"r\")\n",
        "file1.readlines()\n",
        "file1.close()\n",
        "# closing\n",
        "#file.close()"
      ]
    },
    {
      "cell_type": "code",
      "source": [
        "# creating csv file\n",
        "names=[\"kamal\",\"kumar\",\"kaviya\",\"shruthi\",\"cavin\"]\n",
        "age=[21,19,22,20,22]\n",
        "gender=[\"M\",\"M\",\"F\",\"F\",\"M\"]\n",
        "with open(\"csvfile.csv\",\"w\") as file:\n",
        "  file.write(\"Name, Age, Geneder\\n\")\n",
        "  for i in range(5):\n",
        "    file.write(f\"{names[i]}, {age[i]}, {gender[i]}\\n\")"
      ],
      "metadata": {
        "id": "V_ATpmIGoMH_"
      },
      "execution_count": 3,
      "outputs": []
    },
    {
      "cell_type": "code",
      "source": [
        "content=[]\n",
        "# opening a csv file and stor in list for operation\n",
        "with open(\"csvfile.csv\",\"r\") as file:\n",
        "  for line in file.readlines():\n",
        "    content.append(line)\n",
        "print(content)\n"
      ],
      "metadata": {
        "colab": {
          "base_uri": "https://localhost:8080/"
        },
        "id": "YtmKh3_wqGrk",
        "outputId": "75bc0d63-95ad-4776-c916-d0b421128697"
      },
      "execution_count": 4,
      "outputs": [
        {
          "output_type": "stream",
          "name": "stdout",
          "text": [
            "['Name, Age, Geneder\\n', 'kamal, 21, M\\n', 'kumar, 19, M\\n', 'kaviya, 22, F\\n', 'shruthi, 20, F\\n', 'cavin, 22, M\\n']\n"
          ]
        }
      ]
    },
    {
      "cell_type": "code",
      "source": [
        "# sort the list\n",
        "header=content.pop(0)\n",
        "print(header)\n",
        "sorted_age_list=[]\n",
        "for i in sorted(content,key=lambda x:x.split(\",\")[1]):\n",
        "  sorted_age_list.append(i)\n",
        "print(sorted_age_list)"
      ],
      "metadata": {
        "colab": {
          "base_uri": "https://localhost:8080/"
        },
        "id": "UK86zZrypFza",
        "outputId": "70a53295-4df7-4b64-8816-6dbdac749796"
      },
      "execution_count": 5,
      "outputs": [
        {
          "output_type": "stream",
          "name": "stdout",
          "text": [
            "Name, Age, Geneder\n",
            "\n",
            "['kumar, 19, M\\n', 'shruthi, 20, F\\n', 'kamal, 21, M\\n', 'kaviya, 22, F\\n', 'cavin, 22, M\\n']\n"
          ]
        }
      ]
    },
    {
      "cell_type": "code",
      "source": [
        "# sorted list, store in csv\n",
        "with open(\"Sorted_age.csv\",\"w\") as sort_file:\n",
        "  sort_file.write(header)\n",
        "  for i in sorted_age_list:\n",
        "    sort_file.write(i)"
      ],
      "metadata": {
        "id": "-Ne5398ZrZyj"
      },
      "execution_count": 6,
      "outputs": []
    },
    {
      "cell_type": "code",
      "source": [
        "# csv module\n",
        "import csv\n",
        "with open(\"csvfile.csv\",\"r\") as file:\n",
        "  reader=csv.reader(file)\n",
        "  for row in reader:\n",
        "    print(row)"
      ],
      "metadata": {
        "colab": {
          "base_uri": "https://localhost:8080/"
        },
        "id": "ywWo2missPGK",
        "outputId": "019a29f2-5d6d-42b1-b71c-68864d2bc6ac"
      },
      "execution_count": 7,
      "outputs": [
        {
          "output_type": "stream",
          "name": "stdout",
          "text": [
            "['Name', ' Age', ' Geneder']\n",
            "['kamal', ' 21', ' M']\n",
            "['kumar', ' 19', ' M']\n",
            "['kaviya', ' 22', ' F']\n",
            "['shruthi', ' 20', ' F']\n",
            "['cavin', ' 22', ' M']\n"
          ]
        }
      ]
    },
    {
      "cell_type": "code",
      "source": [
        "content=[[\"name\",\"age\",\"gender\"],[\"kamal\",21,\"M\"],[\"kumar\",19,\"M\"],[\"kaviya\",22,\"F\"],[\"shruthi\",20,\"F\"],[\"cavin\",22,\"M\"]]\n",
        "# json file\n",
        "import json\n",
        "with open(\"jsonfile.json\",\"w\") as file:\n",
        "  json.dump(content,file)\n"
      ],
      "metadata": {
        "id": "O2KWHout_iF7"
      },
      "execution_count": 12,
      "outputs": []
    },
    {
      "cell_type": "code",
      "source": [
        "with open(\"jsonfile.json\",\"r\") as file:\n",
        "  print(json.load(file))"
      ],
      "metadata": {
        "colab": {
          "base_uri": "https://localhost:8080/"
        },
        "id": "tulvUTwXAbYV",
        "outputId": "47ed4376-1f00-4025-a892-b7fe33df1203"
      },
      "execution_count": 13,
      "outputs": [
        {
          "output_type": "stream",
          "name": "stdout",
          "text": [
            "[['name', 'age', 'gender'], ['kamal', 21, 'M'], ['kumar', 19, 'M'], ['kaviya', 22, 'F'], ['shruthi', 20, 'F'], ['cavin', 22, 'M']]\n"
          ]
        }
      ]
    }
  ]
}