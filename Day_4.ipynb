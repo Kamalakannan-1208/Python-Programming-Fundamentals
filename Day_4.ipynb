{
  "nbformat": 4,
  "nbformat_minor": 0,
  "metadata": {
    "colab": {
      "provenance": [],
      "authorship_tag": "ABX9TyNMmtWwRYOUv0n5p5fULi9p",
      "include_colab_link": true
    },
    "kernelspec": {
      "name": "python3",
      "display_name": "Python 3"
    },
    "language_info": {
      "name": "python"
    }
  },
  "cells": [
    {
      "cell_type": "markdown",
      "metadata": {
        "id": "view-in-github",
        "colab_type": "text"
      },
      "source": [
        "<a href=\"https://colab.research.google.com/github/Kamalakannan-1208/Python-Programming-Fundamentals/blob/main/Day_4.ipynb\" target=\"_parent\"><img src=\"https://colab.research.google.com/assets/colab-badge.svg\" alt=\"Open In Colab\"/></a>"
      ]
    },
    {
      "cell_type": "markdown",
      "source": [
        "Loop"
      ],
      "metadata": {
        "id": "JM8PJu1xZtmw"
      }
    },
    {
      "cell_type": "code",
      "execution_count": 1,
      "metadata": {
        "colab": {
          "base_uri": "https://localhost:8080/"
        },
        "id": "ZE6JkFQEZp6X",
        "outputId": "163f7acb-e4e5-472c-8b59-e4b3e2f79359"
      },
      "outputs": [
        {
          "output_type": "stream",
          "name": "stdout",
          "text": [
            "0 1 2 3 4 5 6 7 8 9 "
          ]
        }
      ],
      "source": [
        "# for loop\n",
        "for i in range(10):\n",
        "  print(i,end=\" \")"
      ]
    },
    {
      "cell_type": "code",
      "source": [
        "#nested for loop\n",
        "for i in range(10):\n",
        "  for j in range(10):\n",
        "    print(i,j,end=\" \")\n",
        "  print()"
      ],
      "metadata": {
        "colab": {
          "base_uri": "https://localhost:8080/"
        },
        "id": "snUWZdJBZ6Xv",
        "outputId": "b8ad983c-f057-4f2c-b4c1-d9dc5828a8d3"
      },
      "execution_count": 4,
      "outputs": [
        {
          "output_type": "stream",
          "name": "stdout",
          "text": [
            "0 0 0 1 0 2 0 3 0 4 0 5 0 6 0 7 0 8 0 9 \n",
            "1 0 1 1 1 2 1 3 1 4 1 5 1 6 1 7 1 8 1 9 \n",
            "2 0 2 1 2 2 2 3 2 4 2 5 2 6 2 7 2 8 2 9 \n",
            "3 0 3 1 3 2 3 3 3 4 3 5 3 6 3 7 3 8 3 9 \n",
            "4 0 4 1 4 2 4 3 4 4 4 5 4 6 4 7 4 8 4 9 \n",
            "5 0 5 1 5 2 5 3 5 4 5 5 5 6 5 7 5 8 5 9 \n",
            "6 0 6 1 6 2 6 3 6 4 6 5 6 6 6 7 6 8 6 9 \n",
            "7 0 7 1 7 2 7 3 7 4 7 5 7 6 7 7 7 8 7 9 \n",
            "8 0 8 1 8 2 8 3 8 4 8 5 8 6 8 7 8 8 8 9 \n",
            "9 0 9 1 9 2 9 3 9 4 9 5 9 6 9 7 9 8 9 9 \n"
          ]
        }
      ]
    },
    {
      "cell_type": "markdown",
      "source": [
        "While loop"
      ],
      "metadata": {
        "id": "2-UKZBX_aCSJ"
      }
    },
    {
      "cell_type": "code",
      "source": [
        "i=0\n",
        "while i<=5:\n",
        "  print(\"Hello\")\n",
        "  i+=1"
      ],
      "metadata": {
        "colab": {
          "base_uri": "https://localhost:8080/"
        },
        "id": "tlHBL-IbaPsf",
        "outputId": "0c66991e-4ccd-4921-d513-317517cdfdd8"
      },
      "execution_count": 10,
      "outputs": [
        {
          "output_type": "stream",
          "name": "stdout",
          "text": [
            "Hello\n",
            "Hello\n",
            "Hello\n",
            "Hello\n",
            "Hello\n",
            "Hello\n"
          ]
        }
      ]
    },
    {
      "cell_type": "markdown",
      "source": [
        "loop control statment"
      ],
      "metadata": {
        "id": "s6EBYIXyauiy"
      }
    },
    {
      "cell_type": "code",
      "source": [
        "i=0\n",
        "while i<=5:\n",
        "  print(\"Hello\")\n",
        "  i+=1\n",
        "  if i==4:\n",
        "    break\n",
        "  elif i==2:\n",
        "    continue\n"
      ],
      "metadata": {
        "colab": {
          "base_uri": "https://localhost:8080/"
        },
        "id": "ASb2z1wza9ua",
        "outputId": "4b4ec215-733f-4870-9c34-9e91d3b9766f"
      },
      "execution_count": 15,
      "outputs": [
        {
          "output_type": "stream",
          "name": "stdout",
          "text": [
            "Hello\n",
            "Hello\n",
            "Hello\n",
            "Hello\n"
          ]
        }
      ]
    },
    {
      "cell_type": "code",
      "source": [
        "if i==0:\n",
        "  pass"
      ],
      "metadata": {
        "id": "hZQa8zalbH5S"
      },
      "execution_count": 13,
      "outputs": []
    },
    {
      "cell_type": "markdown",
      "source": [
        "Ternary operator"
      ],
      "metadata": {
        "id": "3xlF4vgxbcb6"
      }
    },
    {
      "cell_type": "code",
      "source": [
        "age=18\n",
        "print(\"elgible\" if age>=18 else \"Not eligible\")\n",
        "print((\"eligible\",\"Not eligible\")[age>=18])"
      ],
      "metadata": {
        "colab": {
          "base_uri": "https://localhost:8080/"
        },
        "id": "HYavorIXbftF",
        "outputId": "d2e52ab7-ee1a-4a8e-ecde-59a49e10a03c"
      },
      "execution_count": 17,
      "outputs": [
        {
          "output_type": "stream",
          "name": "stdout",
          "text": [
            "elgible\n",
            "Not eligible\n"
          ]
        }
      ]
    },
    {
      "cell_type": "code",
      "source": [
        "# using dictionary\n",
        "print({True:\"eligible\",False:\"Not eligible\"}[age>=18])"
      ],
      "metadata": {
        "colab": {
          "base_uri": "https://localhost:8080/"
        },
        "id": "gkYSzaiTcwtC",
        "outputId": "0161c5e5-bcfe-46ed-e996-a1d87241f885"
      },
      "execution_count": 20,
      "outputs": [
        {
          "output_type": "stream",
          "name": "stdout",
          "text": [
            "eligible\n"
          ]
        }
      ]
    },
    {
      "cell_type": "code",
      "source": [
        "#lambda\n",
        "var= (lambda x: \"True\" if i<=18 else \"False\")(5)"
      ],
      "metadata": {
        "id": "FKGbrvHLdR3T"
      },
      "execution_count": 23,
      "outputs": []
    },
    {
      "cell_type": "code",
      "source": [
        "print(var)"
      ],
      "metadata": {
        "colab": {
          "base_uri": "https://localhost:8080/"
        },
        "id": "-ppTlROVd0Wu",
        "outputId": "f82567b1-e1b1-4a82-9b08-04a6e6e8af0f"
      },
      "execution_count": 24,
      "outputs": [
        {
          "output_type": "stream",
          "name": "stdout",
          "text": [
            "True\n"
          ]
        }
      ]
    },
    {
      "cell_type": "markdown",
      "source": [
        "Match statment"
      ],
      "metadata": {
        "id": "ldNpVrE_cSBl"
      }
    },
    {
      "cell_type": "code",
      "source": [
        "var=1\n",
        "match (var):\n",
        "  case 1:\n",
        "    print(\"Hello 1\")\n",
        "  case 2:\n",
        "    print(\"Hello 2\")\n",
        "  case _:\n",
        "    print(\"Hello\")"
      ],
      "metadata": {
        "colab": {
          "base_uri": "https://localhost:8080/"
        },
        "id": "0X8rDlEEcP5A",
        "outputId": "e306c4d7-3ffd-4940-869a-cfb8c3342851"
      },
      "execution_count": 19,
      "outputs": [
        {
          "output_type": "stream",
          "name": "stdout",
          "text": [
            "Hello 1\n"
          ]
        }
      ]
    }
  ]
}