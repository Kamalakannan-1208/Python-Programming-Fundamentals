{
  "nbformat": 4,
  "nbformat_minor": 0,
  "metadata": {
    "colab": {
      "provenance": [],
      "authorship_tag": "ABX9TyNBDYjfJEWe0/I8jcpfuku7",
      "include_colab_link": true
    },
    "kernelspec": {
      "name": "python3",
      "display_name": "Python 3"
    },
    "language_info": {
      "name": "python"
    }
  },
  "cells": [
    {
      "cell_type": "markdown",
      "metadata": {
        "id": "view-in-github",
        "colab_type": "text"
      },
      "source": [
        "<a href=\"https://colab.research.google.com/github/Kamalakannan-1208/Python-Programming-Fundamentals/blob/main/Day_14.ipynb\" target=\"_parent\"><img src=\"https://colab.research.google.com/assets/colab-badge.svg\" alt=\"Open In Colab\"/></a>"
      ]
    },
    {
      "cell_type": "markdown",
      "source": [
        "INDEXING"
      ],
      "metadata": {
        "id": "Tf0ygupzzyW4"
      }
    },
    {
      "cell_type": "code",
      "execution_count": 1,
      "metadata": {
        "colab": {
          "base_uri": "https://localhost:8080/"
        },
        "id": "yVUWacdrjbi9",
        "outputId": "6d6ee1cf-b146-4499-e494-5afa4ee8ff6c"
      },
      "outputs": [
        {
          "output_type": "stream",
          "name": "stdout",
          "text": [
            "[[[ 1  2  3]\n",
            "  [ 4  5  6]]\n",
            "\n",
            " [[ 7  8  9]\n",
            "  [10 11 12]]]\n"
          ]
        }
      ],
      "source": [
        "import numpy\n",
        "array=numpy.array([[[1,2,3],[4,5,6]],[[7,8,9],[10,11,12]]],dtype='int16')\n",
        "print(array)"
      ]
    },
    {
      "cell_type": "code",
      "source": [
        "array[1]"
      ],
      "metadata": {
        "colab": {
          "base_uri": "https://localhost:8080/"
        },
        "id": "18JZysfilAv4",
        "outputId": "8060d7ec-5287-4543-acb6-129aaa510e35"
      },
      "execution_count": 2,
      "outputs": [
        {
          "output_type": "execute_result",
          "data": {
            "text/plain": [
              "array([[ 7,  8,  9],\n",
              "       [10, 11, 12]], dtype=int16)"
            ]
          },
          "metadata": {},
          "execution_count": 2
        }
      ]
    },
    {
      "cell_type": "code",
      "source": [
        "# slicing\n",
        "# row\n",
        "array[1,:]"
      ],
      "metadata": {
        "colab": {
          "base_uri": "https://localhost:8080/"
        },
        "id": "Z6vYUjl2uo03",
        "outputId": "2b5d369b-464a-4586-9aa5-9f59219e8730"
      },
      "execution_count": 3,
      "outputs": [
        {
          "output_type": "execute_result",
          "data": {
            "text/plain": [
              "array([[ 7,  8,  9],\n",
              "       [10, 11, 12]], dtype=int16)"
            ]
          },
          "metadata": {},
          "execution_count": 3
        }
      ]
    },
    {
      "cell_type": "code",
      "source": [
        "array[1,1]"
      ],
      "metadata": {
        "colab": {
          "base_uri": "https://localhost:8080/"
        },
        "id": "3h0LT2mxvF8y",
        "outputId": "120423bc-70c2-4b18-99c0-ec71a7e5726f"
      },
      "execution_count": 4,
      "outputs": [
        {
          "output_type": "execute_result",
          "data": {
            "text/plain": [
              "array([10, 11, 12], dtype=int16)"
            ]
          },
          "metadata": {},
          "execution_count": 4
        }
      ]
    },
    {
      "cell_type": "code",
      "source": [
        "array[1,1,1]"
      ],
      "metadata": {
        "colab": {
          "base_uri": "https://localhost:8080/"
        },
        "id": "Qe7g397JvIDT",
        "outputId": "83e79344-b27d-4b25-d6bd-8498642d2e26"
      },
      "execution_count": 5,
      "outputs": [
        {
          "output_type": "execute_result",
          "data": {
            "text/plain": [
              "np.int16(11)"
            ]
          },
          "metadata": {},
          "execution_count": 5
        }
      ]
    },
    {
      "cell_type": "code",
      "source": [
        "#Modifying\n",
        "array[1,1]=[1,2,3]\n",
        "print(array)"
      ],
      "metadata": {
        "colab": {
          "base_uri": "https://localhost:8080/"
        },
        "id": "-r3gKMeovMzv",
        "outputId": "0ccd8e20-89c4-4027-954f-2f331aea01c2"
      },
      "execution_count": 6,
      "outputs": [
        {
          "output_type": "stream",
          "name": "stdout",
          "text": [
            "[[[1 2 3]\n",
            "  [4 5 6]]\n",
            "\n",
            " [[7 8 9]\n",
            "  [1 2 3]]]\n"
          ]
        }
      ]
    },
    {
      "cell_type": "code",
      "source": [
        "# boolean indexing\n",
        "array[array>5]"
      ],
      "metadata": {
        "colab": {
          "base_uri": "https://localhost:8080/"
        },
        "id": "KJSiwCnPvZjM",
        "outputId": "6b3ea0da-b803-489c-866d-53d9c13a4450"
      },
      "execution_count": 7,
      "outputs": [
        {
          "output_type": "execute_result",
          "data": {
            "text/plain": [
              "array([6, 7, 8, 9], dtype=int16)"
            ]
          },
          "metadata": {},
          "execution_count": 7
        }
      ]
    },
    {
      "cell_type": "code",
      "source": [
        "# ellipsis\n",
        "array1=numpy.array([[1,2,3,4,5,6,7],[8,9,10,11,12,13,14]])\n",
        "print(array1[0,::])\n",
        "print(array1[0,...])"
      ],
      "metadata": {
        "colab": {
          "base_uri": "https://localhost:8080/"
        },
        "id": "nPY0NTLVwMHp",
        "outputId": "bf7a2153-5ea6-4537-aaf3-31c7e4dda8d5"
      },
      "execution_count": 8,
      "outputs": [
        {
          "output_type": "stream",
          "name": "stdout",
          "text": [
            "[1 2 3 4 5 6 7]\n",
            "[1 2 3 4 5 6 7]\n"
          ]
        }
      ]
    },
    {
      "cell_type": "code",
      "source": [
        "#new axis col 2d to 3d\n",
        "print(array1[:,numpy.newaxis])\n",
        "print(\"----------\")\n",
        "print(array1[numpy.newaxis,:])"
      ],
      "metadata": {
        "colab": {
          "base_uri": "https://localhost:8080/"
        },
        "id": "eJ34QbeSxIyG",
        "outputId": "205a05ce-5276-4f70-ada1-ed3791757f4a"
      },
      "execution_count": 9,
      "outputs": [
        {
          "output_type": "stream",
          "name": "stdout",
          "text": [
            "[[[ 1  2  3  4  5  6  7]]\n",
            "\n",
            " [[ 8  9 10 11 12 13 14]]]\n",
            "----------\n",
            "[[[ 1  2  3  4  5  6  7]\n",
            "  [ 8  9 10 11 12 13 14]]]\n"
          ]
        }
      ]
    },
    {
      "cell_type": "markdown",
      "source": [
        "PROBLEM STATEMENT"
      ],
      "metadata": {
        "id": "fDffOe6Fy2vz"
      }
    },
    {
      "cell_type": "code",
      "source": [
        "import numpy as np\n",
        "pb_array=np.ones((5,5),dtype=\"int32\")\n",
        "print(pb_array)"
      ],
      "metadata": {
        "colab": {
          "base_uri": "https://localhost:8080/"
        },
        "id": "4Wt9KK7ky2E-",
        "outputId": "6e0f0f30-d7f5-4d1c-9ea3-3bab0ee4c9d0"
      },
      "execution_count": 10,
      "outputs": [
        {
          "output_type": "stream",
          "name": "stdout",
          "text": [
            "[[1 1 1 1 1]\n",
            " [1 1 1 1 1]\n",
            " [1 1 1 1 1]\n",
            " [1 1 1 1 1]\n",
            " [1 1 1 1 1]]\n"
          ]
        }
      ]
    },
    {
      "cell_type": "code",
      "source": [
        "pb1_array=np.zeros((3,3),dtype=\"int32\")\n",
        "pb1_array[1,1]=9\n",
        "print(pb1_array)"
      ],
      "metadata": {
        "colab": {
          "base_uri": "https://localhost:8080/"
        },
        "id": "NEWYiqhlzPgL",
        "outputId": "be3fee82-2ba5-47bd-fab4-4d80cc7de0e2"
      },
      "execution_count": 11,
      "outputs": [
        {
          "output_type": "stream",
          "name": "stdout",
          "text": [
            "[[0 0 0]\n",
            " [0 9 0]\n",
            " [0 0 0]]\n"
          ]
        }
      ]
    },
    {
      "cell_type": "code",
      "source": [
        "pb_array[1:4,1:4]=pb1_array\n",
        "print(pb_array)"
      ],
      "metadata": {
        "colab": {
          "base_uri": "https://localhost:8080/"
        },
        "id": "iwe0uYW2zXdO",
        "outputId": "d671be70-3dcc-4783-c568-5b4fdbfc1162"
      },
      "execution_count": 12,
      "outputs": [
        {
          "output_type": "stream",
          "name": "stdout",
          "text": [
            "[[1 1 1 1 1]\n",
            " [1 0 0 0 1]\n",
            " [1 0 9 0 1]\n",
            " [1 0 0 0 1]\n",
            " [1 1 1 1 1]]\n"
          ]
        }
      ]
    },
    {
      "cell_type": "code",
      "source": [
        "# reshape\n",
        "array2=np.array([[1,2,3,4],[5,6,7,8]])\n",
        "print(array2.reshape(8))\n",
        "print(array2)"
      ],
      "metadata": {
        "colab": {
          "base_uri": "https://localhost:8080/"
        },
        "id": "rxkf1j4t4Iqi",
        "outputId": "9bfb88e3-1973-49a9-b23b-6e838bc55a9b"
      },
      "execution_count": 13,
      "outputs": [
        {
          "output_type": "stream",
          "name": "stdout",
          "text": [
            "[1 2 3 4 5 6 7 8]\n",
            "[[1 2 3 4]\n",
            " [5 6 7 8]]\n"
          ]
        }
      ]
    },
    {
      "cell_type": "code",
      "source": [
        "# resize\n",
        "array2.resize(4,2)\n",
        "print(array2)"
      ],
      "metadata": {
        "colab": {
          "base_uri": "https://localhost:8080/"
        },
        "id": "zghDEWRO4J6U",
        "outputId": "c9ec4990-5ec2-47b5-98ce-27187d346162"
      },
      "execution_count": 14,
      "outputs": [
        {
          "output_type": "stream",
          "name": "stdout",
          "text": [
            "[[1 2]\n",
            " [3 4]\n",
            " [5 6]\n",
            " [7 8]]\n"
          ]
        }
      ]
    },
    {
      "cell_type": "code",
      "source": [
        "#flattening array\n",
        "flaten=array2.ravel()\n",
        "flaten"
      ],
      "metadata": {
        "colab": {
          "base_uri": "https://localhost:8080/"
        },
        "id": "9YpqnYEzAHGO",
        "outputId": "0c5604fe-c8e1-4ce1-8847-6040d578675d"
      },
      "execution_count": 15,
      "outputs": [
        {
          "output_type": "execute_result",
          "data": {
            "text/plain": [
              "array([1, 2, 3, 4, 5, 6, 7, 8])"
            ]
          },
          "metadata": {},
          "execution_count": 15
        }
      ]
    },
    {
      "cell_type": "code",
      "source": [
        "# faltten array\n",
        "flat=array2.flatten()\n",
        "flat"
      ],
      "metadata": {
        "colab": {
          "base_uri": "https://localhost:8080/"
        },
        "id": "R0a7KD_12T6E",
        "outputId": "2a23a79f-3e76-466d-efd3-86e30d8c6a24"
      },
      "execution_count": 18,
      "outputs": [
        {
          "output_type": "execute_result",
          "data": {
            "text/plain": [
              "array([1, 2, 3, 4, 5, 6, 7, 8])"
            ]
          },
          "metadata": {},
          "execution_count": 18
        }
      ]
    }
  ]
}