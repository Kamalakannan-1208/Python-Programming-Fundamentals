{
  "nbformat": 4,
  "nbformat_minor": 0,
  "metadata": {
    "colab": {
      "provenance": [],
      "authorship_tag": "ABX9TyM87AdjsHxojdAhqoTmDQ+P",
      "include_colab_link": true
    },
    "kernelspec": {
      "name": "python3",
      "display_name": "Python 3"
    },
    "language_info": {
      "name": "python"
    }
  },
  "cells": [
    {
      "cell_type": "markdown",
      "metadata": {
        "id": "view-in-github",
        "colab_type": "text"
      },
      "source": [
        "<a href=\"https://colab.research.google.com/github/Kamalakannan-1208/Python-Programming-Fundamentals/blob/main/Day_16.ipynb\" target=\"_parent\"><img src=\"https://colab.research.google.com/assets/colab-badge.svg\" alt=\"Open In Colab\"/></a>"
      ]
    },
    {
      "cell_type": "markdown",
      "source": [
        "Arithmetic operations"
      ],
      "metadata": {
        "id": "lKoYvyGH8He0"
      }
    },
    {
      "cell_type": "code",
      "source": [
        "# addition\n",
        "import numpy as np\n",
        "arr1=np.array([1,2,3])\n",
        "arr2=np.array([4,5,np.nan])\n",
        "print(np.add(arr1,arr2))"
      ],
      "metadata": {
        "id": "wir98vsXExYH",
        "colab": {
          "base_uri": "https://localhost:8080/"
        },
        "outputId": "d1a17995-27d8-4e15-cee7-438a9967ff3b"
      },
      "execution_count": 19,
      "outputs": [
        {
          "output_type": "stream",
          "name": "stdout",
          "text": [
            "[ 5.  7. nan]\n"
          ]
        }
      ]
    },
    {
      "cell_type": "code",
      "source": [
        "# subraction\n",
        "print(np.subtract(arr1,arr2))"
      ],
      "metadata": {
        "colab": {
          "base_uri": "https://localhost:8080/"
        },
        "id": "jPNMLKB18YaX",
        "outputId": "73cda5d3-2770-4db2-dc79-ed878d7a474c"
      },
      "execution_count": 20,
      "outputs": [
        {
          "output_type": "stream",
          "name": "stdout",
          "text": [
            "[-3. -3. nan]\n"
          ]
        }
      ]
    },
    {
      "cell_type": "code",
      "source": [
        "# multiplication\n",
        "arr3=[6,7,8]\n",
        "print(np.multiply(arr1,arr3))"
      ],
      "metadata": {
        "colab": {
          "base_uri": "https://localhost:8080/"
        },
        "id": "QfRmrFRv8bg1",
        "outputId": "567e0c41-2fd8-4488-a85b-02bfa89973fc"
      },
      "execution_count": 21,
      "outputs": [
        {
          "output_type": "stream",
          "name": "stdout",
          "text": [
            "[ 6 14 24]\n"
          ]
        }
      ]
    },
    {
      "cell_type": "code",
      "source": [
        "# division\n",
        "print(np.divide(arr1,arr3))"
      ],
      "metadata": {
        "colab": {
          "base_uri": "https://localhost:8080/"
        },
        "id": "vG0-DIx_8qCI",
        "outputId": "858a022e-b2cc-4c5c-9a6b-43ccb66f1930"
      },
      "execution_count": 22,
      "outputs": [
        {
          "output_type": "stream",
          "name": "stdout",
          "text": [
            "[0.16666667 0.28571429 0.375     ]\n"
          ]
        }
      ]
    },
    {
      "cell_type": "code",
      "source": [
        "#mod\n",
        "print(np.mod(arr1,2))"
      ],
      "metadata": {
        "colab": {
          "base_uri": "https://localhost:8080/"
        },
        "id": "VYMZPnMu8sxj",
        "outputId": "99b14607-90d8-4512-fae0-c246d000bd1a"
      },
      "execution_count": 23,
      "outputs": [
        {
          "output_type": "stream",
          "name": "stdout",
          "text": [
            "[1 0 1]\n"
          ]
        }
      ]
    },
    {
      "cell_type": "code",
      "source": [
        "#exp\n",
        "print(arr1)\n",
        "np.power(arr1,2,out=arr1)\n",
        "print(arr1)\n"
      ],
      "metadata": {
        "colab": {
          "base_uri": "https://localhost:8080/"
        },
        "id": "Opw2tjaS8zxb",
        "outputId": "32ae7086-3899-4311-b3a9-55da2ff85e9c"
      },
      "execution_count": 24,
      "outputs": [
        {
          "output_type": "stream",
          "name": "stdout",
          "text": [
            "[1 2 3]\n",
            "[1 4 9]\n"
          ]
        }
      ]
    },
    {
      "cell_type": "markdown",
      "source": [
        "Aggregation operation"
      ],
      "metadata": {
        "id": "RoLIeGCN8_F9"
      }
    },
    {
      "cell_type": "code",
      "source": [
        "print(np.max(arr1))"
      ],
      "metadata": {
        "colab": {
          "base_uri": "https://localhost:8080/"
        },
        "id": "iLXH-u0Y9t5j",
        "outputId": "bc711cf1-05fa-4717-a0d3-25920178e732"
      },
      "execution_count": 33,
      "outputs": [
        {
          "output_type": "stream",
          "name": "stdout",
          "text": [
            "9\n"
          ]
        }
      ]
    },
    {
      "cell_type": "code",
      "source": [
        "print(np.min(arr1))"
      ],
      "metadata": {
        "colab": {
          "base_uri": "https://localhost:8080/"
        },
        "id": "92DBJ4G5CXdt",
        "outputId": "bdeebe8b-ce4c-4035-e98a-5daa4d711e8a"
      },
      "execution_count": 36,
      "outputs": [
        {
          "output_type": "stream",
          "name": "stdout",
          "text": [
            "1\n"
          ]
        }
      ]
    },
    {
      "cell_type": "code",
      "source": [
        "#minimum\n",
        "print(np.minimum(arr1,arr2))"
      ],
      "metadata": {
        "colab": {
          "base_uri": "https://localhost:8080/"
        },
        "id": "S9b3CMy_Cep-",
        "outputId": "570ed4cc-a3f7-456c-d316-a386f1dd353f"
      },
      "execution_count": 34,
      "outputs": [
        {
          "output_type": "stream",
          "name": "stdout",
          "text": [
            "[ 1.  4. nan]\n"
          ]
        }
      ]
    },
    {
      "cell_type": "code",
      "source": [
        "#maxmum\n",
        "print(np.maximum(arr1,arr2))\n"
      ],
      "metadata": {
        "colab": {
          "base_uri": "https://localhost:8080/"
        },
        "id": "BcP1xgk-9vir",
        "outputId": "82125332-e9ee-400b-f959-34ea76731304"
      },
      "execution_count": 28,
      "outputs": [
        {
          "output_type": "stream",
          "name": "stdout",
          "text": [
            "[ 4.  5. nan]\n"
          ]
        }
      ]
    },
    {
      "cell_type": "code",
      "source": [
        "#sum\n",
        "print(np.sum(arr1))"
      ],
      "metadata": {
        "colab": {
          "base_uri": "https://localhost:8080/"
        },
        "id": "MubDq5OA9w8J",
        "outputId": "5e7d65b1-b2d6-44ca-884c-2d5eea67d2d7"
      },
      "execution_count": 29,
      "outputs": [
        {
          "output_type": "stream",
          "name": "stdout",
          "text": [
            "14\n"
          ]
        }
      ]
    },
    {
      "cell_type": "code",
      "source": [
        "#mean\n",
        "print(np.mean(arr1))"
      ],
      "metadata": {
        "colab": {
          "base_uri": "https://localhost:8080/"
        },
        "id": "6eaUWfGU9z6f",
        "outputId": "ffc9038b-871b-48ab-d046-158e8b8929c3"
      },
      "execution_count": 30,
      "outputs": [
        {
          "output_type": "stream",
          "name": "stdout",
          "text": [
            "4.666666666666667\n"
          ]
        }
      ]
    }
  ]
}