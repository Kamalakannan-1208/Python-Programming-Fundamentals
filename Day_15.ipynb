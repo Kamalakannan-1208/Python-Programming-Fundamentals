{
  "nbformat": 4,
  "nbformat_minor": 0,
  "metadata": {
    "colab": {
      "provenance": [],
      "authorship_tag": "ABX9TyOzCK1BJ11Nujx1XvwFt3kg",
      "include_colab_link": true
    },
    "kernelspec": {
      "name": "python3",
      "display_name": "Python 3"
    },
    "language_info": {
      "name": "python"
    }
  },
  "cells": [
    {
      "cell_type": "markdown",
      "metadata": {
        "id": "view-in-github",
        "colab_type": "text"
      },
      "source": [
        "<a href=\"https://colab.research.google.com/github/Kamalakannan-1208/Python-Programming-Fundamentals/blob/main/Day_15.ipynb\" target=\"_parent\"><img src=\"https://colab.research.google.com/assets/colab-badge.svg\" alt=\"Open In Colab\"/></a>"
      ]
    },
    {
      "cell_type": "markdown",
      "source": [
        "stacking"
      ],
      "metadata": {
        "id": "3fO8QYDGJwgf"
      }
    },
    {
      "cell_type": "code",
      "execution_count": null,
      "metadata": {
        "colab": {
          "base_uri": "https://localhost:8080/"
        },
        "id": "KEMSAVdjJrvQ",
        "outputId": "32fb95ca-c5cf-4830-ea5f-bd1ac3e5b6b8"
      },
      "outputs": [
        {
          "output_type": "stream",
          "name": "stdout",
          "text": [
            "<class 'numpy.ndarray'>\n",
            "(2, 3)\n"
          ]
        }
      ],
      "source": [
        "import numpy as np\n",
        "array1=np.array([[1,2,3],[4,5,6]])\n",
        "array2=np.array([[7,8,9],[10,11,12]])\n",
        "print(type(array1))\n",
        "print(array1.shape)"
      ]
    },
    {
      "cell_type": "code",
      "source": [
        "# stack\n",
        "array3=np.stack((array1,array2),axis=0)\n",
        "print(array3)\n",
        "print(array3.shape)"
      ],
      "metadata": {
        "colab": {
          "base_uri": "https://localhost:8080/"
        },
        "id": "8f3uERBYKRJG",
        "outputId": "96a93031-fd65-4866-e5d3-31914b659d63"
      },
      "execution_count": null,
      "outputs": [
        {
          "output_type": "stream",
          "name": "stdout",
          "text": [
            "[[[ 1  2  3]\n",
            "  [ 4  5  6]]\n",
            "\n",
            " [[ 7  8  9]\n",
            "  [10 11 12]]]\n",
            "(2, 2, 3)\n"
          ]
        }
      ]
    },
    {
      "cell_type": "code",
      "source": [
        "# axis 1\n",
        "array4=np.stack((array1,array2),axis=1)\n",
        "print(array4)\n",
        "print(array4.shape)"
      ],
      "metadata": {
        "colab": {
          "base_uri": "https://localhost:8080/"
        },
        "id": "UmKnGP_wKbU7",
        "outputId": "0d4c1147-1bc0-4622-ed27-0bb82eb06fe6"
      },
      "execution_count": null,
      "outputs": [
        {
          "output_type": "stream",
          "name": "stdout",
          "text": [
            "[[[ 1  2  3]\n",
            "  [ 7  8  9]]\n",
            "\n",
            " [[ 4  5  6]\n",
            "  [10 11 12]]]\n",
            "(2, 2, 3)\n"
          ]
        }
      ]
    },
    {
      "cell_type": "code",
      "source": [
        "# axis 2\n",
        "array5=np.stack((array1,array2),axis=2)\n",
        "print(array5)\n",
        "print(array5.shape)"
      ],
      "metadata": {
        "colab": {
          "base_uri": "https://localhost:8080/"
        },
        "id": "GZDat99OKgLt",
        "outputId": "6f58ae12-4539-432a-ccff-264f64db0f60"
      },
      "execution_count": null,
      "outputs": [
        {
          "output_type": "stream",
          "name": "stdout",
          "text": [
            "[[[ 1  7]\n",
            "  [ 2  8]\n",
            "  [ 3  9]]\n",
            "\n",
            " [[ 4 10]\n",
            "  [ 5 11]\n",
            "  [ 6 12]]]\n",
            "(2, 3, 2)\n"
          ]
        }
      ]
    },
    {
      "cell_type": "code",
      "source": [
        "# vstack\n",
        "print(np.vstack((array1,array2)))\n",
        "print(np.vstack((array1,array2)).shape)"
      ],
      "metadata": {
        "colab": {
          "base_uri": "https://localhost:8080/"
        },
        "id": "LTv11TqRKk3N",
        "outputId": "d64f6cd0-802d-4c5e-84b5-839f871fd3da"
      },
      "execution_count": null,
      "outputs": [
        {
          "output_type": "stream",
          "name": "stdout",
          "text": [
            "[[ 1  2  3]\n",
            " [ 4  5  6]\n",
            " [ 7  8  9]\n",
            " [10 11 12]]\n",
            "(4, 3)\n"
          ]
        }
      ]
    },
    {
      "cell_type": "code",
      "source": [
        "# hstack\n",
        "print(np.hstack((array1,array2)))\n",
        "print(np.hstack((array1,array2)).shape)"
      ],
      "metadata": {
        "colab": {
          "base_uri": "https://localhost:8080/"
        },
        "id": "ipbse2LsKwS1",
        "outputId": "a3f863d1-a7f0-459b-ed6a-ce8c46503e4c"
      },
      "execution_count": null,
      "outputs": [
        {
          "output_type": "stream",
          "name": "stdout",
          "text": [
            "[[ 1  2  3  7  8  9]\n",
            " [ 4  5  6 10 11 12]]\n",
            "(2, 6)\n"
          ]
        }
      ]
    },
    {
      "cell_type": "code",
      "source": [
        "# row wise\n",
        "print(np.row_stack((array1,array2)))\n",
        "print(np.row_stack((array1,array2)).shape)"
      ],
      "metadata": {
        "colab": {
          "base_uri": "https://localhost:8080/"
        },
        "id": "bS1vPRRLK71E",
        "outputId": "8cebac32-94c0-44c9-e9e7-1d80102fa00b"
      },
      "execution_count": null,
      "outputs": [
        {
          "output_type": "stream",
          "name": "stdout",
          "text": [
            "[[ 1  2  3]\n",
            " [ 4  5  6]\n",
            " [ 7  8  9]\n",
            " [10 11 12]]\n",
            "(4, 3)\n"
          ]
        },
        {
          "output_type": "stream",
          "name": "stderr",
          "text": [
            "/tmp/ipython-input-11-1686365091.py:2: DeprecationWarning: `row_stack` alias is deprecated. Use `np.vstack` directly.\n",
            "  print(np.row_stack((array1,array2)))\n",
            "/tmp/ipython-input-11-1686365091.py:3: DeprecationWarning: `row_stack` alias is deprecated. Use `np.vstack` directly.\n",
            "  print(np.row_stack((array1,array2)).shape)\n"
          ]
        }
      ]
    },
    {
      "cell_type": "code",
      "source": [
        "# column wise\n",
        "print(np.column_stack((array1,array2)))\n",
        "print(np.column_stack((array1,array2)).shape)"
      ],
      "metadata": {
        "colab": {
          "base_uri": "https://localhost:8080/"
        },
        "id": "TmCfv3jhLE6o",
        "outputId": "5f70d1cd-da75-433c-cea3-b52c0e68b304"
      },
      "execution_count": null,
      "outputs": [
        {
          "output_type": "stream",
          "name": "stdout",
          "text": [
            "[[ 1  2  3  7  8  9]\n",
            " [ 4  5  6 10 11 12]]\n",
            "(2, 6)\n"
          ]
        }
      ]
    },
    {
      "cell_type": "code",
      "source": [
        "# dstack\n",
        "print(np.dstack((array1,array2)))\n",
        "print(np.dstack((array1,array2)).shape)"
      ],
      "metadata": {
        "id": "xpo6xqi6LRZ6",
        "outputId": "67f9b64e-1505-4c3a-a53b-052091a0eed8",
        "colab": {
          "base_uri": "https://localhost:8080/"
        }
      },
      "execution_count": null,
      "outputs": [
        {
          "output_type": "stream",
          "name": "stdout",
          "text": [
            "[[[ 1  7]\n",
            "  [ 2  8]\n",
            "  [ 3  9]]\n",
            "\n",
            " [[ 4 10]\n",
            "  [ 5 11]\n",
            "  [ 6 12]]]\n",
            "(2, 3, 2)\n"
          ]
        }
      ]
    },
    {
      "cell_type": "markdown",
      "source": [
        "splitting\n"
      ],
      "metadata": {
        "id": "xLmQIaYcLJiE"
      }
    },
    {
      "cell_type": "code",
      "source": [
        "# must be equal split\n",
        "import numpy as np\n",
        "arrays=np.array([1,2,3,4,5,6])\n",
        "ans=np.split(arrays,3)\n",
        "print(ans)\n"
      ],
      "metadata": {
        "id": "2ujAeRxkLKtz",
        "colab": {
          "base_uri": "https://localhost:8080/"
        },
        "outputId": "99adf325-01f0-4be9-e9cb-6135d33b7729"
      },
      "execution_count": null,
      "outputs": [
        {
          "output_type": "stream",
          "name": "stdout",
          "text": [
            "[array([1, 2]), array([3, 4]), array([5, 6])]\n"
          ]
        }
      ]
    },
    {
      "cell_type": "code",
      "source": [
        "# unequal split\n",
        "print(np.array_split(arrays,4))"
      ],
      "metadata": {
        "colab": {
          "base_uri": "https://localhost:8080/"
        },
        "id": "x61N1foDNDcd",
        "outputId": "d4b1ae6c-29db-4641-c9ce-ad24445b57cf"
      },
      "execution_count": null,
      "outputs": [
        {
          "output_type": "stream",
          "name": "stdout",
          "text": [
            "[array([1, 2]), array([3, 4]), array([5]), array([6])]\n"
          ]
        }
      ]
    },
    {
      "cell_type": "code",
      "source": [
        "# hsplit 1 d and more"
      ],
      "metadata": {
        "id": "71feqouTNvYc"
      },
      "execution_count": null,
      "outputs": []
    },
    {
      "cell_type": "code",
      "source": [
        "arrayspl=np.array([[1,2,3],[4,5,6],[7,8,9],[10,11,12],[13,14,15],[16,17,18]])\n",
        "print(np.hsplit(arrays,3))"
      ],
      "metadata": {
        "colab": {
          "base_uri": "https://localhost:8080/"
        },
        "id": "C4oRGA7aNxVO",
        "outputId": "22ca307e-06db-48d2-b22e-2c9ec49e3f77"
      },
      "execution_count": null,
      "outputs": [
        {
          "output_type": "stream",
          "name": "stdout",
          "text": [
            "[array([1, 2]), array([3, 4]), array([5, 6])]\n"
          ]
        }
      ]
    },
    {
      "cell_type": "code",
      "source": [
        "# vertical 2d and more\n",
        "print(np.vsplit(arrayspl,3))"
      ],
      "metadata": {
        "colab": {
          "base_uri": "https://localhost:8080/"
        },
        "id": "dwQteZeJN-XS",
        "outputId": "5df60cc4-8c97-4e11-9cfa-a0db9c802115"
      },
      "execution_count": null,
      "outputs": [
        {
          "output_type": "stream",
          "name": "stdout",
          "text": [
            "[array([[1, 2, 3],\n",
            "       [4, 5, 6]]), array([[ 7,  8,  9],\n",
            "       [10, 11, 12]]), array([[13, 14, 15],\n",
            "       [16, 17, 18]])]\n"
          ]
        }
      ]
    },
    {
      "cell_type": "code",
      "source": [
        "# depth\n",
        "threed=np.array([[[1,2,3],[4,5,6]],[[7,8,9],[10,11,12]]])\n",
        "print(np.dsplit(threed,3))"
      ],
      "metadata": {
        "colab": {
          "base_uri": "https://localhost:8080/"
        },
        "id": "Ov-EtlfqOBH0",
        "outputId": "675f404a-8f41-4324-807c-4f6261c4cf2f"
      },
      "execution_count": null,
      "outputs": [
        {
          "output_type": "stream",
          "name": "stdout",
          "text": [
            "[array([[[ 1],\n",
            "        [ 4]],\n",
            "\n",
            "       [[ 7],\n",
            "        [10]]]), array([[[ 2],\n",
            "        [ 5]],\n",
            "\n",
            "       [[ 8],\n",
            "        [11]]]), array([[[ 3],\n",
            "        [ 6]],\n",
            "\n",
            "       [[ 9],\n",
            "        [12]]])]\n"
          ]
        }
      ]
    }
  ]
}