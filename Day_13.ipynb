{
  "nbformat": 4,
  "nbformat_minor": 0,
  "metadata": {
    "colab": {
      "provenance": [],
      "authorship_tag": "ABX9TyMRaejShR1xRws3CGLHZicl",
      "include_colab_link": true
    },
    "kernelspec": {
      "name": "python3",
      "display_name": "Python 3"
    },
    "language_info": {
      "name": "python"
    }
  },
  "cells": [
    {
      "cell_type": "markdown",
      "metadata": {
        "id": "view-in-github",
        "colab_type": "text"
      },
      "source": [
        "<a href=\"https://colab.research.google.com/github/Kamalakannan-1208/Python-Programming-Fundamentals/blob/main/Day_13.ipynb\" target=\"_parent\"><img src=\"https://colab.research.google.com/assets/colab-badge.svg\" alt=\"Open In Colab\"/></a>"
      ]
    },
    {
      "cell_type": "markdown",
      "source": [
        "NUMPy"
      ],
      "metadata": {
        "id": "bprWlbUE9IEw"
      }
    },
    {
      "cell_type": "code",
      "execution_count": 33,
      "metadata": {
        "colab": {
          "base_uri": "https://localhost:8080/"
        },
        "id": "uUYXw70J02Wh",
        "outputId": "d284289e-10b1-414c-8857-07cc5115cf60"
      },
      "outputs": [
        {
          "output_type": "stream",
          "name": "stdout",
          "text": [
            "[1 2 3]\n"
          ]
        }
      ],
      "source": [
        "import numpy as np\n",
        "# array creation 1d\n",
        "array=np.array([1,2,3])\n",
        "print(array)"
      ]
    },
    {
      "cell_type": "code",
      "source": [
        "# attributes of array\n",
        "print(array.ndim)\n",
        "print(array.shape)\n",
        "print(array.size)\n",
        "print(array.dtype)\n",
        "print(array.itemsize)\n",
        "print(array.nbytes)"
      ],
      "metadata": {
        "colab": {
          "base_uri": "https://localhost:8080/"
        },
        "id": "io2U4gZ29UBF",
        "outputId": "48e79522-31fc-41ba-f28f-b5133daf3fda"
      },
      "execution_count": 34,
      "outputs": [
        {
          "output_type": "stream",
          "name": "stdout",
          "text": [
            "1\n",
            "(3,)\n",
            "3\n",
            "int64\n",
            "8\n",
            "24\n"
          ]
        }
      ]
    },
    {
      "cell_type": "code",
      "source": [
        "# 2d array\n",
        "array2=np.array([[1,2,3],[4,5,6]])\n",
        "print(array2)\n",
        "# 3d array\n",
        "array3=np.array([[[1,2,3],[4,5,6]],[[7,8,9],[10,11,12]]])\n",
        "print(array3)"
      ],
      "metadata": {
        "colab": {
          "base_uri": "https://localhost:8080/"
        },
        "id": "mNV-yutG9da8",
        "outputId": "75a204f6-7a46-43e8-f396-78a174d4ebe8"
      },
      "execution_count": 35,
      "outputs": [
        {
          "output_type": "stream",
          "name": "stdout",
          "text": [
            "[[1 2 3]\n",
            " [4 5 6]]\n",
            "[[[ 1  2  3]\n",
            "  [ 4  5  6]]\n",
            "\n",
            " [[ 7  8  9]\n",
            "  [10 11 12]]]\n"
          ]
        }
      ]
    },
    {
      "cell_type": "code",
      "source": [
        "print(array2.ndim, array3.ndim)"
      ],
      "metadata": {
        "colab": {
          "base_uri": "https://localhost:8080/"
        },
        "id": "FqyjivpU9z7J",
        "outputId": "0cb9601a-d041-4b28-a42b-145c9ee31cb6"
      },
      "execution_count": 36,
      "outputs": [
        {
          "output_type": "stream",
          "name": "stdout",
          "text": [
            "2 3\n"
          ]
        }
      ]
    },
    {
      "cell_type": "markdown",
      "source": [
        "Methods to create array"
      ],
      "metadata": {
        "id": "9zYL4F4xe4_d"
      }
    },
    {
      "cell_type": "code",
      "source": [
        "#zeros method\n",
        "zeros = np.zeros((2,3))\n",
        "print(zeros)"
      ],
      "metadata": {
        "colab": {
          "base_uri": "https://localhost:8080/"
        },
        "id": "iuP78LrYe7kO",
        "outputId": "65028874-c881-4c2b-98d0-a95a96528253"
      },
      "execution_count": 37,
      "outputs": [
        {
          "output_type": "stream",
          "name": "stdout",
          "text": [
            "[[0. 0. 0.]\n",
            " [0. 0. 0.]]\n"
          ]
        }
      ]
    },
    {
      "cell_type": "code",
      "source": [
        "#ones method\n",
        "ones=np.ones((2,3,4),dtype='int16')\n",
        "print(ones)"
      ],
      "metadata": {
        "colab": {
          "base_uri": "https://localhost:8080/"
        },
        "id": "sUZlAlm1fBRi",
        "outputId": "785ed96b-8023-46fe-9cd8-0d1049426a6a"
      },
      "execution_count": 38,
      "outputs": [
        {
          "output_type": "stream",
          "name": "stdout",
          "text": [
            "[[[1 1 1 1]\n",
            "  [1 1 1 1]\n",
            "  [1 1 1 1]]\n",
            "\n",
            " [[1 1 1 1]\n",
            "  [1 1 1 1]\n",
            "  [1 1 1 1]]]\n"
          ]
        }
      ]
    },
    {
      "cell_type": "code",
      "source": [
        "# full method\n",
        "full=np.full((2,3),4)\n",
        "print(full)"
      ],
      "metadata": {
        "colab": {
          "base_uri": "https://localhost:8080/"
        },
        "id": "P9gdxb_2fRLT",
        "outputId": "fda46e7d-6fbd-4a56-96e9-234f28161e2b"
      },
      "execution_count": 39,
      "outputs": [
        {
          "output_type": "stream",
          "name": "stdout",
          "text": [
            "[[4 4 4]\n",
            " [4 4 4]]\n"
          ]
        }
      ]
    },
    {
      "cell_type": "code",
      "source": [
        "# arrange method\n",
        "arrange=np.arange(10,20,2)\n",
        "print(arrange)"
      ],
      "metadata": {
        "colab": {
          "base_uri": "https://localhost:8080/"
        },
        "id": "yRJ1njF0gR9I",
        "outputId": "b500e771-5625-4ca8-84c1-f73abd5562c1"
      },
      "execution_count": 40,
      "outputs": [
        {
          "output_type": "stream",
          "name": "stdout",
          "text": [
            "[10 12 14 16 18]\n"
          ]
        }
      ]
    },
    {
      "cell_type": "code",
      "source": [
        "#linespace\n",
        "linespace=np.linspace(0,1,num=5)\n",
        "print(linespace)"
      ],
      "metadata": {
        "colab": {
          "base_uri": "https://localhost:8080/"
        },
        "id": "8okSYStqgiHs",
        "outputId": "3b59c6f1-3928-48d1-b43f-34f9a68fe92e"
      },
      "execution_count": 41,
      "outputs": [
        {
          "output_type": "stream",
          "name": "stdout",
          "text": [
            "[0.   0.25 0.5  0.75 1.  ]\n"
          ]
        }
      ]
    },
    {
      "cell_type": "code",
      "source": [
        "#random 0 to 1 range\n",
        "random_array=np.random.rand(2,3)\n",
        "print(random_array)"
      ],
      "metadata": {
        "colab": {
          "base_uri": "https://localhost:8080/"
        },
        "id": "j8qOXiTag6G1",
        "outputId": "12a7cb3a-7b99-4c20-a932-25233867b876"
      },
      "execution_count": 42,
      "outputs": [
        {
          "output_type": "stream",
          "name": "stdout",
          "text": [
            "[[0.76176525 0.63969034 0.83692563]\n",
            " [0.41337887 0.91753025 0.77135981]]\n"
          ]
        }
      ]
    },
    {
      "cell_type": "code",
      "source": [
        "# random with given range\n",
        "random_array_nd=np.random.randn(2,3)\n",
        "print(random_array_nd)"
      ],
      "metadata": {
        "colab": {
          "base_uri": "https://localhost:8080/"
        },
        "id": "v5TKHXPCg58b",
        "outputId": "ef5bd8ce-7fe4-4c6a-fd28-6b8e7896f7ab"
      },
      "execution_count": 43,
      "outputs": [
        {
          "output_type": "stream",
          "name": "stdout",
          "text": [
            "[[-1.64640061 -0.59436562  0.292687  ]\n",
            " [-0.08537021  0.07376843  0.78033863]]\n"
          ]
        }
      ]
    },
    {
      "cell_type": "code",
      "source": [
        "# random element in array in integer\n",
        "ramdom_integer=np.random.randint(0,10,size=(2,3))\n",
        "print(ramdom_integer)"
      ],
      "metadata": {
        "colab": {
          "base_uri": "https://localhost:8080/"
        },
        "id": "ErEizw4-g5MV",
        "outputId": "b089ee2b-6478-4045-c5bb-41c56367c9ed"
      },
      "execution_count": 44,
      "outputs": [
        {
          "output_type": "stream",
          "name": "stdout",
          "text": [
            "[[3 8 8]\n",
            " [5 7 8]]\n"
          ]
        }
      ]
    },
    {
      "cell_type": "code",
      "source": [
        "# full_like method\n",
        "full_like=np.full_like(ones,5)\n",
        "print(full_like)"
      ],
      "metadata": {
        "colab": {
          "base_uri": "https://localhost:8080/"
        },
        "id": "B9hqKxrzfgmj",
        "outputId": "4bef217b-f7c0-4f9e-f2c2-eef72b5f3f0f"
      },
      "execution_count": 45,
      "outputs": [
        {
          "output_type": "stream",
          "name": "stdout",
          "text": [
            "[[[5 5 5 5]\n",
            "  [5 5 5 5]\n",
            "  [5 5 5 5]]\n",
            "\n",
            " [[5 5 5 5]\n",
            "  [5 5 5 5]\n",
            "  [5 5 5 5]]]\n"
          ]
        }
      ]
    },
    {
      "cell_type": "code",
      "source": [
        "# zeros_like method\n",
        "zeros_like=np.zeros_like(ones)\n",
        "print(zeros_like)"
      ],
      "metadata": {
        "colab": {
          "base_uri": "https://localhost:8080/"
        },
        "id": "YLRxgpz9fkqp",
        "outputId": "287b496a-9dc2-425a-bb95-f522faeecbc3"
      },
      "execution_count": 46,
      "outputs": [
        {
          "output_type": "stream",
          "name": "stdout",
          "text": [
            "[[[0 0 0 0]\n",
            "  [0 0 0 0]\n",
            "  [0 0 0 0]]\n",
            "\n",
            " [[0 0 0 0]\n",
            "  [0 0 0 0]\n",
            "  [0 0 0 0]]]\n"
          ]
        }
      ]
    },
    {
      "cell_type": "code",
      "source": [
        "# ones_like method\n",
        "ones_like=np.ones_like(zeros_like)\n",
        "print(ones_like)"
      ],
      "metadata": {
        "colab": {
          "base_uri": "https://localhost:8080/"
        },
        "id": "iusYdruRf_Mf",
        "outputId": "f7615e03-ea91-426f-87d4-ac068b66118d"
      },
      "execution_count": 47,
      "outputs": [
        {
          "output_type": "stream",
          "name": "stdout",
          "text": [
            "[[[1 1 1 1]\n",
            "  [1 1 1 1]\n",
            "  [1 1 1 1]]\n",
            "\n",
            " [[1 1 1 1]\n",
            "  [1 1 1 1]\n",
            "  [1 1 1 1]]]\n"
          ]
        }
      ]
    },
    {
      "cell_type": "code",
      "source": [
        "# identity matrix support operation\n",
        "identity=np.eye(2,3,k=1)\n",
        "print(identity)"
      ],
      "metadata": {
        "colab": {
          "base_uri": "https://localhost:8080/"
        },
        "id": "CBT_GYU3hdOr",
        "outputId": "c78b2a91-7281-4af1-9119-fe5362a008fd"
      },
      "execution_count": 48,
      "outputs": [
        {
          "output_type": "stream",
          "name": "stdout",
          "text": [
            "[[0. 1. 0.]\n",
            " [0. 0. 1.]]\n"
          ]
        }
      ]
    },
    {
      "cell_type": "code",
      "source": [
        "# acquarate identity matrix\n",
        "identity_like=np.identity(2)\n",
        "print(identity_like)"
      ],
      "metadata": {
        "colab": {
          "base_uri": "https://localhost:8080/"
        },
        "id": "rCl4ikQnhkrO",
        "outputId": "dc8cadb9-3e5d-41c0-aaf4-bc233447c877"
      },
      "execution_count": 49,
      "outputs": [
        {
          "output_type": "stream",
          "name": "stdout",
          "text": [
            "[[1. 0.]\n",
            " [0. 1.]]\n"
          ]
        }
      ]
    },
    {
      "cell_type": "code",
      "source": [
        "# diagonal matrix\n",
        "diag=np.diag(identity_like)\n",
        "print(diag)"
      ],
      "metadata": {
        "colab": {
          "base_uri": "https://localhost:8080/"
        },
        "id": "xABJ1fDciFt1",
        "outputId": "392266c0-4409-4967-f5b5-0d602265db31"
      },
      "execution_count": 50,
      "outputs": [
        {
          "output_type": "stream",
          "name": "stdout",
          "text": [
            "[1. 1.]\n"
          ]
        }
      ]
    }
  ]
}