{
  "nbformat": 4,
  "nbformat_minor": 0,
  "metadata": {
    "colab": {
      "provenance": [],
      "authorship_tag": "ABX9TyM267uiI3nf+KyIQOhvG3Cl",
      "include_colab_link": true
    },
    "kernelspec": {
      "name": "python3",
      "display_name": "Python 3"
    },
    "language_info": {
      "name": "python"
    }
  },
  "cells": [
    {
      "cell_type": "markdown",
      "metadata": {
        "id": "view-in-github",
        "colab_type": "text"
      },
      "source": [
        "<a href=\"https://colab.research.google.com/github/Kamalakannan-1208/Python-Programming-Fundamentals/blob/main/Patterns.ipynb\" target=\"_parent\"><img src=\"https://colab.research.google.com/assets/colab-badge.svg\" alt=\"Open In Colab\"/></a>"
      ]
    },
    {
      "cell_type": "markdown",
      "source": [
        "q1"
      ],
      "metadata": {
        "id": "UCEzTEnP8l-a"
      }
    },
    {
      "cell_type": "code",
      "execution_count": null,
      "metadata": {
        "colab": {
          "base_uri": "https://localhost:8080/"
        },
        "id": "QJchFvvDu71m",
        "outputId": "186f445e-fc5b-4973-c5ee-071626564e54"
      },
      "outputs": [
        {
          "output_type": "stream",
          "name": "stdout",
          "text": [
            "Enter the value: 5\n",
            "* * * * * \n",
            "* * * * * \n",
            "* * * * * \n",
            "* * * * * \n",
            "* * * * * \n"
          ]
        }
      ],
      "source": [
        "\"\"\"row= int(input(\"enter the input: \"))\n",
        "col= int(input(\"enter the input: \"))\n",
        "for i in range(row):\n",
        "  for j in range(col):\n",
        "    print(\"*\",end=\" \")\n",
        "  print()\"\"\"\n",
        "\n",
        "def pattern1(n):\n",
        "  for i in range(n):\n",
        "    for j in range(n):\n",
        "      print(\"*\",end=\" \")\n",
        "    print()\n",
        "pattern1(int(input(\"Enter the value: \")))"
      ]
    },
    {
      "cell_type": "markdown",
      "source": [
        "Pattern printing- most of the time 2 loops\n",
        "outer loop - row\n",
        "inner loop- column"
      ],
      "metadata": {
        "id": "oTyNQEpVvc9t"
      }
    },
    {
      "cell_type": "markdown",
      "source": [
        "q2"
      ],
      "metadata": {
        "id": "NLenzsAr8otX"
      }
    },
    {
      "cell_type": "code",
      "source": [
        "n=int(input(\"Enter theh n : \"))\n",
        "for i in range(n):\n",
        "  for j in range(i+1):\n",
        "    print(\"*\",end=\" \")\n",
        "  print()"
      ],
      "metadata": {
        "colab": {
          "base_uri": "https://localhost:8080/"
        },
        "id": "t3GnIQQXzlDP",
        "outputId": "3765f924-2111-4d43-f451-9f90990ccc00"
      },
      "execution_count": null,
      "outputs": [
        {
          "output_type": "stream",
          "name": "stdout",
          "text": [
            "Enter theh n : 5\n",
            "* \n",
            "* * \n",
            "* * * \n",
            "* * * * \n",
            "* * * * * \n"
          ]
        }
      ]
    },
    {
      "cell_type": "markdown",
      "source": [
        "q3"
      ],
      "metadata": {
        "id": "JEs3cHrd8rJm"
      }
    },
    {
      "cell_type": "code",
      "source": [
        "n=5\n",
        "for i in range(n):\n",
        "  for j in range(n-i):\n",
        "    print(\"*\",end=\" \")\n",
        "  print()"
      ],
      "metadata": {
        "colab": {
          "base_uri": "https://localhost:8080/"
        },
        "id": "vhVqIKW11BKZ",
        "outputId": "21f2f92d-1f23-4d3e-ff49-19a23fc833db"
      },
      "execution_count": null,
      "outputs": [
        {
          "output_type": "stream",
          "name": "stdout",
          "text": [
            "* * * * * \n",
            "* * * * \n",
            "* * * \n",
            "* * \n",
            "* \n"
          ]
        }
      ]
    },
    {
      "cell_type": "markdown",
      "source": [
        "q4"
      ],
      "metadata": {
        "id": "SFJPJ7g18smj"
      }
    },
    {
      "cell_type": "code",
      "source": [
        "n=5\n",
        "for i in range(n):\n",
        "  for j in range(i+1):\n",
        "    print(j+1,end=\" \")\n",
        "  print()"
      ],
      "metadata": {
        "colab": {
          "base_uri": "https://localhost:8080/"
        },
        "id": "Og1DWHFQ2R26",
        "outputId": "2c46b557-73ad-4740-81dd-1b6ed4921936"
      },
      "execution_count": null,
      "outputs": [
        {
          "output_type": "stream",
          "name": "stdout",
          "text": [
            "1 \n",
            "1 2 \n",
            "1 2 3 \n",
            "1 2 3 4 \n",
            "1 2 3 4 5 \n"
          ]
        }
      ]
    },
    {
      "cell_type": "markdown",
      "source": [
        "q5"
      ],
      "metadata": {
        "id": "w_-GdAT68vRI"
      }
    },
    {
      "cell_type": "code",
      "source": [
        "n=5\n",
        "for i in range(1,2*n):\n",
        "  if(i>n):\n",
        "    i = n-(i-n)\n",
        "  for j in range(i):\n",
        "    print(\"*\",end=\" \")\n",
        "  print(\"\")"
      ],
      "metadata": {
        "colab": {
          "base_uri": "https://localhost:8080/"
        },
        "id": "5eTcsx0w2XCA",
        "outputId": "1df4db3d-9744-46a2-ea8c-c8cef5d1e919"
      },
      "execution_count": null,
      "outputs": [
        {
          "output_type": "stream",
          "name": "stdout",
          "text": [
            "* \n",
            "* * \n",
            "* * * \n",
            "* * * * \n",
            "* * * * * \n",
            "* * * * \n",
            "* * * \n",
            "* * \n",
            "* \n"
          ]
        }
      ]
    },
    {
      "cell_type": "markdown",
      "source": [
        "q6"
      ],
      "metadata": {
        "id": "xI7z_-i48xsx"
      }
    },
    {
      "cell_type": "code",
      "source": [
        "for i in range(1,n+1):\n",
        "  for j in range(n-i):\n",
        "    print(\" \",end=\" \")\n",
        "  for k in range(i):\n",
        "    print(\"*\",end=\" \")\n",
        "  print()"
      ],
      "metadata": {
        "colab": {
          "base_uri": "https://localhost:8080/"
        },
        "id": "5F9Vm27Y7l0-",
        "outputId": "f5fcdda7-f496-46d2-baf5-46d511c54daf"
      },
      "execution_count": null,
      "outputs": [
        {
          "output_type": "stream",
          "name": "stdout",
          "text": [
            "        * \n",
            "      * * \n",
            "    * * * \n",
            "  * * * * \n",
            "* * * * * \n"
          ]
        }
      ]
    },
    {
      "cell_type": "code",
      "source": [
        "#7\n",
        "for i in range(n):\n",
        "  for j in range(i):\n",
        "    print(\" \",end=\" \")\n",
        "  for k in range(n-i):\n",
        "    print(\"*\",end=\" \")\n",
        "  print()"
      ],
      "metadata": {
        "id": "U_fbObVl8eI3",
        "colab": {
          "base_uri": "https://localhost:8080/"
        },
        "outputId": "bb6ef585-2c6b-490d-a1dd-10110ffed261"
      },
      "execution_count": null,
      "outputs": [
        {
          "output_type": "stream",
          "name": "stdout",
          "text": [
            "* * * * * \n",
            "  * * * * \n",
            "    * * * \n",
            "      * * \n",
            "        * \n"
          ]
        }
      ]
    },
    {
      "cell_type": "code",
      "source": [
        "#8\n",
        "for i in range(1,n+1):\n",
        "  for j in range(n-i):\n",
        "    print(\" \",end=\" \")\n",
        "  for j in range((i*2)-1):\n",
        "    print(\"*\",end=\" \")\n",
        "  print()"
      ],
      "metadata": {
        "colab": {
          "base_uri": "https://localhost:8080/"
        },
        "id": "Xju_-FFyWBwo",
        "outputId": "ff3fa7fc-b5dc-4d84-c91a-8f226c6e3a5e"
      },
      "execution_count": null,
      "outputs": [
        {
          "output_type": "stream",
          "name": "stdout",
          "text": [
            "        * \n",
            "      * * * \n",
            "    * * * * * \n",
            "  * * * * * * * \n",
            "* * * * * * * * * \n"
          ]
        }
      ]
    },
    {
      "cell_type": "code",
      "source": [
        "#9\n",
        "for i in range(n):\n",
        "  for j in range(i):\n",
        "    print(\" \",end=\" \")\n",
        "  for k in range(((n-i)*2)-1):\n",
        "    print(\"*\",end=\" \")\n",
        "  print()"
      ],
      "metadata": {
        "colab": {
          "base_uri": "https://localhost:8080/"
        },
        "id": "AENbKKnUXtbp",
        "outputId": "280eda1a-2ea6-4d37-ea6d-b2dff49531b3"
      },
      "execution_count": null,
      "outputs": [
        {
          "output_type": "stream",
          "name": "stdout",
          "text": [
            "* * * * * * * * * \n",
            "  * * * * * * * \n",
            "    * * * * * \n",
            "      * * * \n",
            "        * \n"
          ]
        }
      ]
    },
    {
      "cell_type": "code",
      "source": [
        "#10\n",
        "for i in range(1,n+1):\n",
        "  for j in range(n-i):\n",
        "    print(\"\",end=\" \")\n",
        "  for k in range(i):\n",
        "    print(\"* \",end=\"\")\n",
        "  print()"
      ],
      "metadata": {
        "colab": {
          "base_uri": "https://localhost:8080/"
        },
        "id": "hSKHN1fUaz7S",
        "outputId": "5162fca5-3ce0-474a-faa4-b61de924e244"
      },
      "execution_count": null,
      "outputs": [
        {
          "output_type": "stream",
          "name": "stdout",
          "text": [
            "    * \n",
            "   * * \n",
            "  * * * \n",
            " * * * * \n",
            "* * * * * \n"
          ]
        }
      ]
    },
    {
      "cell_type": "code",
      "source": [
        "#11\n",
        "n=5\n",
        "for i in range(n):\n",
        "  for j in range(i):\n",
        "    print(\" \",end=\"\")\n",
        "  for k in range(n-i):\n",
        "    print(\"* \",end=\"\")\n",
        "  print()"
      ],
      "metadata": {
        "id": "zsfvn3uVdEh6",
        "colab": {
          "base_uri": "https://localhost:8080/"
        },
        "outputId": "4a681e3c-ee5e-48cf-dc26-66905665c1c2"
      },
      "execution_count": null,
      "outputs": [
        {
          "output_type": "stream",
          "name": "stdout",
          "text": [
            "* * * * * \n",
            " * * * * \n",
            "  * * * \n",
            "   * * \n",
            "    * \n"
          ]
        }
      ]
    },
    {
      "cell_type": "code",
      "source": [
        "#12\n",
        "for i in range(n):\n",
        "  for j in range(i):\n",
        "    print(\" \",end=\"\")\n",
        "  for k in range(n-i):\n",
        "    print(\"* \",end=\"\")\n",
        "  print()\n",
        "for i in range(1,n+1):\n",
        "  for j in range(n-i):\n",
        "    print(\"\",end=\" \")\n",
        "  for k in range(i):\n",
        "    print(\"* \",end=\"\")\n",
        "  print()"
      ],
      "metadata": {
        "colab": {
          "base_uri": "https://localhost:8080/"
        },
        "id": "jAMRxPVCWyGG",
        "outputId": "30d8d4c0-ec40-4cf9-bd90-ad2f271c89e8"
      },
      "execution_count": null,
      "outputs": [
        {
          "output_type": "stream",
          "name": "stdout",
          "text": [
            "* * * * * \n",
            " * * * * \n",
            "  * * * \n",
            "   * * \n",
            "    * \n",
            "    * \n",
            "   * * \n",
            "  * * * \n",
            " * * * * \n",
            "* * * * * \n"
          ]
        }
      ]
    },
    {
      "cell_type": "code",
      "source": [
        "#13\n",
        "n= 5\n",
        "for i in range(n):\n",
        "  # outer space\n",
        "  for j in range(n-i+1):\n",
        "    print(\" \",end=\"\")\n",
        "  #inner space\n",
        "  for k in range()\n",
        "  #star\n",
        "  for k in range(2*i+1):\n",
        "    print(\"*\",end=\"\")\n",
        "  print()"
      ],
      "metadata": {
        "id": "20gjdWsWXM6a",
        "colab": {
          "base_uri": "https://localhost:8080/"
        },
        "outputId": "bfa94ac1-e907-493c-accc-c89cdad02bb1"
      },
      "execution_count": null,
      "outputs": [
        {
          "output_type": "stream",
          "name": "stdout",
          "text": [
            "      *\n",
            "     ***\n",
            "    *****\n",
            "   *******\n",
            "  *********\n"
          ]
        }
      ]
    },
    {
      "cell_type": "code",
      "source": [
        "# flip pattern\n",
        "# right angle triangle\n",
        "n =4\n",
        "\n",
        "for i in range(0,n):\n",
        "    start=0\n",
        "\n",
        "    if(i%2==0):\n",
        "        start=1\n",
        "    else:\n",
        "        start=0\n",
        "\n",
        "    for j in range(0,i+1):\n",
        "        start=1-start\n",
        "        print(start,end=\" \")\n",
        "\n",
        "    print()"
      ],
      "metadata": {
        "colab": {
          "base_uri": "https://localhost:8080/"
        },
        "id": "AGn_MPeHUlxY",
        "outputId": "2e397af5-a200-4f62-f34a-360fe88ceab6"
      },
      "execution_count": null,
      "outputs": [
        {
          "output_type": "stream",
          "name": "stdout",
          "text": [
            "0 \n",
            "1 0 \n",
            "0 1 0 \n",
            "1 0 1 0 \n"
          ]
        }
      ]
    },
    {
      "cell_type": "code",
      "source": [
        "# pyramid\n",
        "for i in range (1,n+1):\n",
        "  start=0\n",
        "\n",
        "  if(i%2==0):\n",
        "    start=1\n",
        "\n",
        "  for j in range(0,n-i):\n",
        "    print(\" \",end=\" \")\n",
        "\n",
        "  for k in range(0,2*i-1):\n",
        "    print(start,end=\" \")\n",
        "    start=1-start\n",
        "\n",
        "  print()"
      ],
      "metadata": {
        "colab": {
          "base_uri": "https://localhost:8080/"
        },
        "id": "i5OAMX5cahUC",
        "outputId": "60e7dc07-ace8-47cd-c3ce-d6b98702d696"
      },
      "execution_count": null,
      "outputs": [
        {
          "output_type": "stream",
          "name": "stdout",
          "text": [
            "      0 \n",
            "    1 0 1 \n",
            "  0 1 0 1 0 \n",
            "1 0 1 0 1 0 1 \n"
          ]
        }
      ]
    },
    {
      "cell_type": "code",
      "source": [
        "n=4\n",
        "initial=n\n",
        "for i in range(1,n+1):\n",
        "    #alpha\n",
        "    alphastart=65+initial\n",
        "    incr=0\n",
        "    for j in range(i):\n",
        "        print(chr(alphastart+incr),end=\" \")\n",
        "        incr+=1\n",
        "    initial-=1\n",
        "    print()\n"
      ],
      "metadata": {
        "colab": {
          "base_uri": "https://localhost:8080/"
        },
        "id": "6zPPfVFgHO_1",
        "outputId": "665c1bb0-f996-4da9-eb3b-7b46a3f92f44"
      },
      "execution_count": null,
      "outputs": [
        {
          "output_type": "stream",
          "name": "stdout",
          "text": [
            "E \n",
            "D E \n",
            "C D E \n",
            "B C D E \n"
          ]
        }
      ]
    },
    {
      "cell_type": "code",
      "source": [
        "n=4\n",
        "\n",
        "for i in range(0,n):\n",
        "\n",
        "    #star\n",
        "    for j in range(n-i):\n",
        "        print(\"*\",end=\" \")\n",
        "\n",
        "    #space\n",
        "    for k in range(i*2):\n",
        "        print(\" \",end=\" \")\n",
        "\n",
        "    #star\n",
        "    for l in range(n-i):\n",
        "        print(\"*\",end=\" \")\n",
        "    print()\n",
        "ops=(n-1)*2\n",
        "for x in range(n):\n",
        "    #star\n",
        "    for a in range(x+1):\n",
        "        print(\"*\",end=\" \")\n",
        "\n",
        "    #space\n",
        "\n",
        "    for b in range(ops):\n",
        "        print(\" \",end=\" \")\n",
        "    ops = ops-2\n",
        "    #star\n",
        "    for c in range(x+1):\n",
        "        print(\"*\",end=\" \")\n",
        "    print()"
      ],
      "metadata": {
        "id": "bIWsaebETkJH",
        "outputId": "dc867d2f-c6e5-427d-87c9-1464cddba35e",
        "colab": {
          "base_uri": "https://localhost:8080/"
        }
      },
      "execution_count": null,
      "outputs": [
        {
          "output_type": "stream",
          "name": "stdout",
          "text": [
            "* * * * * * * * \n",
            "* * *     * * * \n",
            "* *         * * \n",
            "*             * \n",
            "*             * \n",
            "* *         * * \n",
            "* * *     * * * \n",
            "* * * * * * * * \n"
          ]
        }
      ]
    },
    {
      "cell_type": "code",
      "source": [
        "n=5\n",
        "space=2*n-2\n",
        "for i in range(1,2*n):\n",
        "  if i<n:\n",
        "    star=i\n",
        "  else:\n",
        "    star=2*n-i\n",
        "\n",
        "  #star\n",
        "  for j in range(star):\n",
        "    print(\"*\",end=\" \")\n",
        "  #space\n",
        "  for m in range(space):\n",
        "    print(\" \",end=\" \")\n",
        "  #star\n",
        "  for k in range(star):\n",
        "    print(\"*\",end=\" \")\n",
        "\n",
        "  if i<n:\n",
        "    space=space-2\n",
        "  else:\n",
        "    space=space+2\n",
        "\n",
        "  print()"
      ],
      "metadata": {
        "id": "xUc7w1PJTm6H",
        "colab": {
          "base_uri": "https://localhost:8080/"
        },
        "outputId": "bf7d9c6d-feb7-48ed-fcbe-8db855ef9896"
      },
      "execution_count": 11,
      "outputs": [
        {
          "output_type": "stream",
          "name": "stdout",
          "text": [
            "*                 * \n",
            "* *             * * \n",
            "* * *         * * * \n",
            "* * * *     * * * * \n",
            "* * * * * * * * * * \n",
            "* * * *     * * * * \n",
            "* * *         * * * \n",
            "* *             * * \n",
            "*                 * \n"
          ]
        }
      ]
    },
    {
      "cell_type": "code",
      "source": [
        "for i in range(0,n):\n",
        "  for j in range(0,n):\n",
        "    if(i==0 or i==n-1 or j==0 or j==n-1):\n",
        "      print(\"*\",end=\" \")\n",
        "    else:\n",
        "      print(\" \",end=\" \")\n",
        "  print()"
      ],
      "metadata": {
        "colab": {
          "base_uri": "https://localhost:8080/"
        },
        "id": "0eluOL-Gw07s",
        "outputId": "10c75dad-2847-4ca5-c65e-ad1308578f76"
      },
      "execution_count": 12,
      "outputs": [
        {
          "output_type": "stream",
          "name": "stdout",
          "text": [
            "* * * * * \n",
            "*       * \n",
            "*       * \n",
            "*       * \n",
            "* * * * * \n"
          ]
        }
      ]
    },
    {
      "cell_type": "code",
      "source": [
        "for i in range(2*n-1):\n",
        "  for j in range(2*n-1):\n",
        "    top=i\n",
        "    left=j\n",
        "    right=(2*n-2)-j\n",
        "    bottom=(2*n-2)-i\n",
        "    print(n-min(min(top,bottom),min(right,left)),end=\" \")\n",
        "  print()\n"
      ],
      "metadata": {
        "colab": {
          "base_uri": "https://localhost:8080/"
        },
        "id": "SbBNapDkw-RW",
        "outputId": "670198b9-5e09-4c5e-c8aa-1fbb5d02cf4e"
      },
      "execution_count": 14,
      "outputs": [
        {
          "output_type": "stream",
          "name": "stdout",
          "text": [
            "5 5 5 5 5 5 5 5 5 \n",
            "5 4 4 4 4 4 4 4 5 \n",
            "5 4 3 3 3 3 3 4 5 \n",
            "5 4 3 2 2 2 3 4 5 \n",
            "5 4 3 2 1 2 3 4 5 \n",
            "5 4 3 2 2 2 3 4 5 \n",
            "5 4 3 3 3 3 3 4 5 \n",
            "5 4 4 4 4 4 4 4 5 \n",
            "5 5 5 5 5 5 5 5 5 \n"
          ]
        }
      ]
    }
  ]
}