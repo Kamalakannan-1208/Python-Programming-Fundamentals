{
  "nbformat": 4,
  "nbformat_minor": 0,
  "metadata": {
    "colab": {
      "provenance": [],
      "authorship_tag": "ABX9TyMcrpbAwhw4YoOBuyPjlmYp",
      "include_colab_link": true
    },
    "kernelspec": {
      "name": "python3",
      "display_name": "Python 3"
    },
    "language_info": {
      "name": "python"
    }
  },
  "cells": [
    {
      "cell_type": "markdown",
      "metadata": {
        "id": "view-in-github",
        "colab_type": "text"
      },
      "source": [
        "<a href=\"https://colab.research.google.com/github/Kamalakannan-1208/Python-Programming-Fundamentals/blob/main/Day_3.ipynb\" target=\"_parent\"><img src=\"https://colab.research.google.com/assets/colab-badge.svg\" alt=\"Open In Colab\"/></a>"
      ]
    },
    {
      "cell_type": "markdown",
      "source": [
        "Operator"
      ],
      "metadata": {
        "id": "SushulTuowkO"
      }
    },
    {
      "cell_type": "code",
      "execution_count": 3,
      "metadata": {
        "id": "BHcdCpmqok_4",
        "colab": {
          "base_uri": "https://localhost:8080/"
        },
        "outputId": "5c6f4a20-62a9-493b-c2ec-3e2dff16e298"
      },
      "outputs": [
        {
          "output_type": "stream",
          "name": "stdout",
          "text": [
            "103\n",
            "99\n",
            "202\n",
            "50.5\n",
            "1\n",
            "50\n",
            "10201\n"
          ]
        }
      ],
      "source": [
        "# 1) Arithmetic\n",
        "\n",
        "a=101\n",
        "b=2\n",
        "print(a+b)\n",
        "print(a-b)\n",
        "print(a*b)\n",
        "print(a/b)\n",
        "print(a%b)#modulus\n",
        "print(a//b)#floor division\n",
        "print(a**b)\n"
      ]
    },
    {
      "cell_type": "code",
      "source": [
        "# realational operator\n",
        "c=2\n",
        "print(a<b)\n",
        "print(a<=b)\n",
        "print(a>b)\n",
        "print(a>=c)\n",
        "print(a==b)\n",
        "print(a!=b)"
      ],
      "metadata": {
        "colab": {
          "base_uri": "https://localhost:8080/"
        },
        "id": "pVuLVpLXTVaj",
        "outputId": "6fffaeb7-de90-4dec-b5cd-2f3b2f970dbe"
      },
      "execution_count": 4,
      "outputs": [
        {
          "output_type": "stream",
          "name": "stdout",
          "text": [
            "False\n",
            "False\n",
            "True\n",
            "True\n",
            "False\n",
            "True\n"
          ]
        }
      ]
    },
    {
      "cell_type": "code",
      "source": [
        "# logical operator\n",
        "print(a and b)# return smaller one or both or ture then true\n",
        "print(a or b)# greatest\n",
        "print(not 0)# value than false, if o ture\n"
      ],
      "metadata": {
        "colab": {
          "base_uri": "https://localhost:8080/"
        },
        "id": "_KeU7cubTtds",
        "outputId": "42ff5acb-3e2e-4ecc-ac87-b5b8c7c469a3"
      },
      "execution_count": 7,
      "outputs": [
        {
          "output_type": "stream",
          "name": "stdout",
          "text": [
            "2\n",
            "101\n",
            "True\n"
          ]
        }
      ]
    },
    {
      "cell_type": "code",
      "source": [
        "#Bitwise operator\n",
        "# work more through hand\n",
        "print(a&b)# bitwise and\n",
        "print(a|b)# bitwise or\n",
        "print(a^b)# bitwise xor\n",
        "print(~a)# bitwise no\n",
        "print(a>>b)# bitwise right sift\n",
        "print(a<<b)# bitwise left\n"
      ],
      "metadata": {
        "colab": {
          "base_uri": "https://localhost:8080/"
        },
        "id": "XenNAzCzT4qb",
        "outputId": "092a7f76-a05b-4838-e93a-9058421df0ec"
      },
      "execution_count": 8,
      "outputs": [
        {
          "output_type": "stream",
          "name": "stdout",
          "text": [
            "0\n",
            "103\n",
            "103\n",
            "-102\n",
            "25\n",
            "404\n"
          ]
        }
      ]
    },
    {
      "cell_type": "code",
      "source": [
        "# identity operator\n",
        "print(a is b)# check the memory and same obj reference\n",
        "print(a is not b)\n",
        "# membership operator\n",
        "print(a in [4,10])\n",
        "print(a not in [3,2])"
      ],
      "metadata": {
        "colab": {
          "base_uri": "https://localhost:8080/"
        },
        "id": "rpUVYFa3T8dd",
        "outputId": "cae15941-0c6c-457e-ec92-91c544cc3ef3"
      },
      "execution_count": 11,
      "outputs": [
        {
          "output_type": "stream",
          "name": "stdout",
          "text": [
            "False\n",
            "True\n",
            "False\n",
            "True\n"
          ]
        }
      ]
    },
    {
      "cell_type": "markdown",
      "source": [
        "control statements"
      ],
      "metadata": {
        "id": "7GCgALqiXYCU"
      }
    },
    {
      "cell_type": "markdown",
      "source": [
        "conditional statements"
      ],
      "metadata": {
        "id": "r2S3AcleVq7n"
      }
    },
    {
      "cell_type": "code",
      "source": [
        "# if statement\n",
        "if True:\n",
        "  print(\"Hello world\")"
      ],
      "metadata": {
        "colab": {
          "base_uri": "https://localhost:8080/"
        },
        "id": "HYGIxr9pWR0s",
        "outputId": "cc71292e-f756-48a0-df2e-4d7d038a646d"
      },
      "execution_count": 14,
      "outputs": [
        {
          "output_type": "stream",
          "name": "stdout",
          "text": [
            "Hello world\n"
          ]
        }
      ]
    },
    {
      "cell_type": "code",
      "source": [
        "# if statement and else statement\n",
        "# vote check\n",
        "my_age = int(input(\"Enter YOur Age\"))\n",
        "if my_age>=18:\n",
        "  print(\"you are eligible for vote\")\n",
        "else:\n",
        "  print(\"Sorry not eligible\")"
      ],
      "metadata": {
        "colab": {
          "base_uri": "https://localhost:8080/"
        },
        "id": "g4dP17UpVvej",
        "outputId": "23dba8db-e1ab-4ea4-98af-815f8c9be77a"
      },
      "execution_count": 13,
      "outputs": [
        {
          "output_type": "stream",
          "name": "stdout",
          "text": [
            "Enter YOur Age17\n",
            "Sorry not eligible\n"
          ]
        }
      ]
    },
    {
      "cell_type": "code",
      "source": [
        "#if-elif statement\n",
        "# grade\n",
        "my_marks = int(input(\"Enter your marks\"))\n",
        "if my_marks>=90:\n",
        "  print(\"Grade A\")\n",
        "elif my_marks>=60:\n",
        "  print(\"Grade B\")\n",
        "elif my_marks>=40:\n",
        "  print(\"Grade C\")\n",
        "else:\n",
        "  print(\"Grade D\")\n"
      ],
      "metadata": {
        "colab": {
          "base_uri": "https://localhost:8080/"
        },
        "id": "-P4mY9hbWM-u",
        "outputId": "7a41094e-765f-4198-f4ff-13a125e39e77"
      },
      "execution_count": 15,
      "outputs": [
        {
          "output_type": "stream",
          "name": "stdout",
          "text": [
            "Enter your marks40\n",
            "Grade C\n"
          ]
        }
      ]
    },
    {
      "cell_type": "code",
      "source": [
        "# nested if statment\n",
        "mark=int(input(\"Enter  your mark\"))\n",
        "if(mark>=35):\n",
        "  print(\"pass\")\n",
        "  if(mark>=90):\n",
        "    print(\"Grade A\")\n",
        "  elif(mark>=60):\n",
        "    print(\"Grade B\")\n",
        "  elif(mark>=35):\n",
        "    print(\"Grade C\")\n",
        "else:\n",
        "  print(\"fail\")\n"
      ],
      "metadata": {
        "colab": {
          "base_uri": "https://localhost:8080/"
        },
        "id": "4CeeV4fLWsJk",
        "outputId": "667340d3-44b9-4500-8e23-2193c6b0b8fa"
      },
      "execution_count": 18,
      "outputs": [
        {
          "output_type": "stream",
          "name": "stdout",
          "text": [
            "Enter  your mark40\n",
            "pass\n",
            "Grade C\n"
          ]
        }
      ]
    }
  ]
}