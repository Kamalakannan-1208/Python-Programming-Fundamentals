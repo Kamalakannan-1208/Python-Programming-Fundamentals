{
  "nbformat": 4,
  "nbformat_minor": 0,
  "metadata": {
    "colab": {
      "provenance": [],
      "authorship_tag": "ABX9TyOHD9mj3Yn+u3mCdiU1PNc/",
      "include_colab_link": true
    },
    "kernelspec": {
      "name": "python3",
      "display_name": "Python 3"
    },
    "language_info": {
      "name": "python"
    }
  },
  "cells": [
    {
      "cell_type": "markdown",
      "metadata": {
        "id": "view-in-github",
        "colab_type": "text"
      },
      "source": [
        "<a href=\"https://colab.research.google.com/github/Kamalakannan-1208/Python-Programming-Fundamentals/blob/main/Day_6.ipynb\" target=\"_parent\"><img src=\"https://colab.research.google.com/assets/colab-badge.svg\" alt=\"Open In Colab\"/></a>"
      ]
    },
    {
      "cell_type": "markdown",
      "source": [
        "Inner functions"
      ],
      "metadata": {
        "id": "6U1m7Y1dMSEz"
      }
    },
    {
      "cell_type": "code",
      "source": [
        "def outer_function(name):#outer function\n",
        "  def inner_function():\n",
        "      print(f\"Hello {name}\")\n",
        "  inner_function()# calling only works\n",
        "outer_function(\"kamal\")"
      ],
      "metadata": {
        "colab": {
          "base_uri": "https://localhost:8080/"
        },
        "id": "irXWOkFTMU35",
        "outputId": "6f09e5b0-6874-4f68-8faa-1a2ee1100e1f"
      },
      "execution_count": null,
      "outputs": [
        {
          "output_type": "stream",
          "name": "stdout",
          "text": [
            "Hello kamal\n"
          ]
        }
      ]
    },
    {
      "cell_type": "markdown",
      "source": [
        "After oops only understand ...."
      ],
      "metadata": {
        "id": "XBvB6w6tcXDZ"
      }
    },
    {
      "cell_type": "markdown",
      "source": [
        "Decorators"
      ],
      "metadata": {
        "id": "BXpAuOqFKByj"
      }
    },
    {
      "cell_type": "code",
      "execution_count": null,
      "metadata": {
        "id": "NT7nUlZuh9I0",
        "colab": {
          "base_uri": "https://localhost:8080/"
        },
        "outputId": "9417314c-a66a-4fb3-ea7a-54ed4720a939"
      },
      "outputs": [
        {
          "output_type": "execute_result",
          "data": {
            "text/plain": [
              "8.0"
            ]
          },
          "metadata": {},
          "execution_count": 9
        }
      ],
      "source": [
        "# type 1 - function decorators\n",
        "#method 1 on assignment\n",
        "\"\"\"def func(a,b):\n",
        "  return a/b\"\"\" #not working\n",
        "\n",
        "def name_decarator(func):\n",
        "  def wrapper(a, b):\n",
        "    if b>a:\n",
        "      a,b=b,a\n",
        "    func(a,b)\n",
        "    return func(a,b)\n",
        "  return wrapper\n",
        "\n",
        "@name_decarator\n",
        "def func(a,b):\n",
        "  return a/b\n",
        "func(1,8)"
      ]
    },
    {
      "cell_type": "code",
      "source": [
        "#method 2 assignment\n",
        "def func(a,b):\n",
        "  return a/b\n",
        "\n",
        "def name_decarator(func):\n",
        "  def wrapper(a, b):\n",
        "    if b>a:\n",
        "      a,b=b,a\n",
        "    func(a,b)\n",
        "    return func(a,b)\n",
        "  return wrapper\n",
        "\n",
        "func=name_decarator(func)\n",
        "func(1,8)"
      ],
      "metadata": {
        "colab": {
          "base_uri": "https://localhost:8080/"
        },
        "id": "YMI7wl9LLeOn",
        "outputId": "30a8f2b8-031d-4291-b25e-02979553c46a"
      },
      "execution_count": null,
      "outputs": [
        {
          "output_type": "execute_result",
          "data": {
            "text/plain": [
              "8.0"
            ]
          },
          "metadata": {},
          "execution_count": 11
        }
      ]
    },
    {
      "cell_type": "code",
      "source": [
        "# type 2 - Method decorators\n",
        "def name_decarator(func):\n",
        "  def wrapper(self,a, b):\n",
        "    if b>a:\n",
        "      a,b=b,a\n",
        "    result=func(self,a,b)\n",
        "    return result\n",
        "  return wrapper\n",
        "class class_name:\n",
        "  @name_decarator\n",
        "  def func(self,a,b):\n",
        "    return a/b\n",
        "obj=class_name()\n",
        "obj.func(1,8)"
      ],
      "metadata": {
        "colab": {
          "base_uri": "https://localhost:8080/"
        },
        "id": "HAhHPsSFLryw",
        "outputId": "8f561c6b-cbdf-4ebe-d3f6-b76682abd417"
      },
      "execution_count": null,
      "outputs": [
        {
          "output_type": "execute_result",
          "data": {
            "text/plain": [
              "8.0"
            ]
          },
          "metadata": {},
          "execution_count": 19
        }
      ]
    },
    {
      "cell_type": "code",
      "source": [
        "# class decorators\n",
        "def name_decorators(class_name):\n",
        "  class_name.name=class_name.__name__\n",
        "  return class_name\n",
        "@name_decorators\n",
        "class Kamal:\n",
        "  pass\n",
        "obj=Kamal()\n",
        "print(obj.name)\n"
      ],
      "metadata": {
        "colab": {
          "base_uri": "https://localhost:8080/"
        },
        "id": "ob8ttZp4OCzI",
        "outputId": "37e7e45f-6647-410d-e11b-d275e81f32b6"
      },
      "execution_count": null,
      "outputs": [
        {
          "output_type": "stream",
          "name": "stdout",
          "text": [
            "Kamal\n"
          ]
        }
      ]
    },
    {
      "cell_type": "markdown",
      "source": [
        "BuiltIn decorator"
      ],
      "metadata": {
        "id": "6zBojujdbp5O"
      }
    },
    {
      "cell_type": "code",
      "source": [
        "\"\"\"\"here the method not depends on object\"\"\"\n",
        "#static Method\n",
        "class class_name:\n",
        "  @staticmethod\n",
        "  def func(a,b):\n",
        "    return a/b\n",
        "obj=class_name()\n",
        "obj.func(8,1)\n"
      ],
      "metadata": {
        "colab": {
          "base_uri": "https://localhost:8080/"
        },
        "id": "nVobt-fabtta",
        "outputId": "8ccb1f7f-6777-4978-e937-8c84577fcc27"
      },
      "execution_count": null,
      "outputs": [
        {
          "output_type": "execute_result",
          "data": {
            "text/plain": [
              "8.0"
            ]
          },
          "metadata": {},
          "execution_count": 23
        }
      ]
    },
    {
      "cell_type": "code",
      "source": [],
      "metadata": {
        "id": "rIrKT1JMb9O4"
      },
      "execution_count": null,
      "outputs": []
    }
  ]
}