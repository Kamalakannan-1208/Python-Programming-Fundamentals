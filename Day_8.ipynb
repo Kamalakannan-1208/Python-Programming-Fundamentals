{
  "nbformat": 4,
  "nbformat_minor": 0,
  "metadata": {
    "colab": {
      "provenance": [],
      "authorship_tag": "ABX9TyNKZuOJmpucepwVSZMpJN3M",
      "include_colab_link": true
    },
    "kernelspec": {
      "name": "python3",
      "display_name": "Python 3"
    },
    "language_info": {
      "name": "python"
    }
  },
  "cells": [
    {
      "cell_type": "markdown",
      "metadata": {
        "id": "view-in-github",
        "colab_type": "text"
      },
      "source": [
        "<a href=\"https://colab.research.google.com/github/Kamalakannan-1208/Python-Programming-Fundamentals/blob/main/Day_8.ipynb\" target=\"_parent\"><img src=\"https://colab.research.google.com/assets/colab-badge.svg\" alt=\"Open In Colab\"/></a>"
      ]
    },
    {
      "cell_type": "markdown",
      "source": [
        "Inheritance"
      ],
      "metadata": {
        "id": "fz09F6LbwxQb"
      }
    },
    {
      "cell_type": "code",
      "execution_count": null,
      "metadata": {
        "id": "80lzleIyfMlV",
        "colab": {
          "base_uri": "https://localhost:8080/"
        },
        "outputId": "52004e84-5cae-4eb3-99c9-9aa2b08ff5d3"
      },
      "outputs": [
        {
          "output_type": "stream",
          "name": "stdout",
          "text": [
            "kamal kumar\n"
          ]
        }
      ],
      "source": [
        "# parent class\n",
        "class person:\n",
        "  def __init__(self, fname, lname):\n",
        "    self.firstname = fname\n",
        "    self.lastname = lname\n",
        "  def printname(self):\n",
        "    print(self.firstname, self.lastname)\n",
        "kamal=person(\"kamal\",\"kumar\")\n",
        "kamal.printname()"
      ]
    },
    {
      "cell_type": "code",
      "source": [
        "#child class and super function\n",
        "class student(person):\n",
        "  def __init__(self, fname, lname):\n",
        "    super().__init__(fname, lname)\n",
        "x=student(\"vimal\",\"kumar\")\n",
        "x.printname()"
      ],
      "metadata": {
        "colab": {
          "base_uri": "https://localhost:8080/"
        },
        "id": "QfmP7qGvxHJs",
        "outputId": "ab177ec9-d22b-442d-c8a5-b79acf051493"
      },
      "execution_count": null,
      "outputs": [
        {
          "output_type": "stream",
          "name": "stdout",
          "text": [
            "vimal kumar\n"
          ]
        }
      ]
    },
    {
      "cell_type": "markdown",
      "source": [
        "Types of Inheritance"
      ],
      "metadata": {
        "id": "XbwfJdvPxmoO"
      }
    },
    {
      "cell_type": "code",
      "source": [
        "#single inheritance\n",
        "class person:\n",
        "  def __init__(self, fname, lname):\n",
        "    self.firstname = fname\n",
        "    self.lastname = lname\n",
        "  def printname(self):\n",
        "    print(self.firstname, self.lastname)\n",
        "class student(person):\n",
        "  def __init__(self, fname, lname):\n",
        "    super().__init__(fname, lname)\n",
        "x=student(\"vimal\",\"kumar\")\n",
        "x.printname()"
      ],
      "metadata": {
        "colab": {
          "base_uri": "https://localhost:8080/"
        },
        "id": "msN1c_Zcxrkp",
        "outputId": "93059011-7c91-4fdf-a55f-f98c371b1990"
      },
      "execution_count": null,
      "outputs": [
        {
          "output_type": "stream",
          "name": "stdout",
          "text": [
            "vimal kumar\n"
          ]
        }
      ]
    },
    {
      "cell_type": "code",
      "source": [
        "#multiple inheritance\n",
        "class person:\n",
        "  def __init__(self, fname, lname):\n",
        "    self.firstname = fname\n",
        "    self.lastname = lname\n",
        "  def printname1(self):\n",
        "    print(self.firstname, self.lastname)\n",
        "class person2:\n",
        "  def __init__(self, fname, lname):\n",
        "    self.firstname = fname\n",
        "    self.lastname = lname\n",
        "  def printname2(self):\n",
        "    print(self.firstname, self.lastname)\n",
        "class student(person,person2):\n",
        "  def __init__(self, fname, lname):\n",
        "    super().__init__(fname, lname)\n",
        "x=student(\"vimal\",\"kumar\")\n",
        "x.printname2()\n",
        "x.printname1()"
      ],
      "metadata": {
        "colab": {
          "base_uri": "https://localhost:8080/"
        },
        "id": "RNVdoSX9x0o3",
        "outputId": "43962272-0f99-458c-875b-44930f9c0c27"
      },
      "execution_count": null,
      "outputs": [
        {
          "output_type": "stream",
          "name": "stdout",
          "text": [
            "vimal kumar\n",
            "vimal kumar\n"
          ]
        }
      ]
    },
    {
      "cell_type": "code",
      "source": [
        "#Multilevel inheritance\n",
        "class person:\n",
        "  def __init__(self, fname, lname):\n",
        "    self.firstname = fname\n",
        "    self.lastname = lname\n",
        "    print(self.firstname, self.lastname)\n",
        "class student(person):\n",
        "  def __init__(self, fname, lname):\n",
        "    super().__init__(fname, lname)\n",
        "    print(f\"student {fname}{lname}\")\n",
        "class marks(student):\n",
        "  def __init__(self, fname, lname):\n",
        "    super().__init__(fname, lname)\n",
        "    print(f\"marks {fname}{lname}\")\n",
        "x=marks(\"vimal\",\"kumar\")\n"
      ],
      "metadata": {
        "colab": {
          "base_uri": "https://localhost:8080/"
        },
        "id": "_cbfbGQCyL8x",
        "outputId": "89c9357a-9943-4b71-a1c6-11b9e3e31da5"
      },
      "execution_count": null,
      "outputs": [
        {
          "output_type": "stream",
          "name": "stdout",
          "text": [
            "vimal kumar\n",
            "student vimalkumar\n",
            "marks vimalkumar\n"
          ]
        }
      ]
    },
    {
      "cell_type": "code",
      "source": [
        "#hierarchical inheritance\n",
        "class person:\n",
        "  def __init__(self, fname, lname):\n",
        "    self.firstname = fname\n",
        "    self.lastname = lname\n",
        "    print(self.firstname, self.lastname)\n",
        "class child1(person):\n",
        "  def __init__(self, fname, lname):\n",
        "    super().__init__(fname, lname)\n",
        "    print(f\"child1 {fname}{lname}\")\n",
        "class child2(person):\n",
        "  def __init__(self, fname, lname):\n",
        "    super().__init__(fname, lname)\n",
        "child1=child1(\"vimal\",\"kumar\")\n",
        "child2=child2(\"vimal\",\"kumar\")"
      ],
      "metadata": {
        "colab": {
          "base_uri": "https://localhost:8080/"
        },
        "id": "J2F41-ojyp3D",
        "outputId": "44b6244b-17f6-4205-9d2b-e23f21e1f4cf"
      },
      "execution_count": null,
      "outputs": [
        {
          "output_type": "stream",
          "name": "stdout",
          "text": [
            "vimal kumar\n",
            "child1 vimalkumar\n",
            "vimal kumar\n"
          ]
        }
      ]
    },
    {
      "cell_type": "code",
      "source": [
        "#hybrid inheritance\n",
        "# single inheritance and # multiple\n",
        "#single inheritance\n",
        "class person:\n",
        "  def __init__(self, fname, lname):\n",
        "    self.firstname = fname\n",
        "    self.lastname = lname\n",
        "  def printname(self):\n",
        "    print(self.firstname, self.lastname)\n",
        "class student(person):\n",
        "  def __init__(self, fname, lname):\n",
        "    super().__init__(fname, lname)\n",
        "\n",
        "class student_senior(student):\n",
        "  def __init__(self, fname, lname):\n",
        "    super().__init__(fname, lname)\n",
        "    print(f\"senior {fname}{lname}\")\n",
        "class student_junior(student):\n",
        "  def __init__(self, fname, lname):\n",
        "    super().__init__(fname, lname)\n",
        "x=student(\"vimal\",\"kumar\")\n",
        "x.printname()\n",
        "senior=student_senior(\"vimal\",\"kumar\")\n"
      ],
      "metadata": {
        "colab": {
          "base_uri": "https://localhost:8080/"
        },
        "id": "5_L5AsZ2zMTn",
        "outputId": "9f6ecc5e-043e-4c98-dfc8-b1335ecaedae"
      },
      "execution_count": null,
      "outputs": [
        {
          "output_type": "stream",
          "name": "stdout",
          "text": [
            "vimal kumar\n",
            "senior vimalkumar\n"
          ]
        }
      ]
    }
  ]
}